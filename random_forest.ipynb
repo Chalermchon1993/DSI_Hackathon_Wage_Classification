{
 "cells": [
  {
   "cell_type": "markdown",
   "id": "e1ee3e81-48a7-4fe6-a9e7-3f84b353b54c",
   "metadata": {},
   "source": [
    "# Import Tools"
   ]
  },
  {
   "cell_type": "markdown",
   "id": "41e88e23-92e9-4e26-9086-6e24db127228",
   "metadata": {},
   "source": [
    "## Libaries"
   ]
  },
  {
   "cell_type": "code",
   "execution_count": 1,
   "id": "260330a1-02ac-437b-a66f-d54c81734eb9",
   "metadata": {},
   "outputs": [],
   "source": [
    "import numpy as np\n",
    "import pandas as pd\n",
    "import math\n",
    "import matplotlib.pyplot as plt\n",
    "import seaborn as sns\n",
    "\n",
    "from sklearn import metrics\n",
    "from sklearn.model_selection import GridSearchCV, train_test_split, cross_val_score\n",
    "from sklearn.ensemble import RandomForestClassifier, ExtraTreesClassifier"
   ]
  },
  {
   "cell_type": "markdown",
   "id": "972d0f99-613b-47dd-9ad8-a5cb05d00d08",
   "metadata": {},
   "source": [
    "## Functions"
   ]
  },
  {
   "cell_type": "code",
   "execution_count": 2,
   "id": "c7632e7c-1eda-45f7-9ea6-700a41797ab8",
   "metadata": {},
   "outputs": [],
   "source": [
    "def countplot_chart(data, features, target):\n",
    "    \"\"\"Create countplot from iterating all given features cut by target label\n",
    "    data = pd.DataFrame\n",
    "    x = given features\n",
    "    hue = a target variable\"\"\"\n",
    "    # create subplots by number of x\n",
    "    rows = math.ceil(len(features) / 4)\n",
    "    fig, axes = plt.subplots(rows, 4, figsize=(20, rows * 5))\n",
    "    \n",
    "    # iterate column name\n",
    "    for i, feat in enumerate(features): \n",
    "        x = i // 4\n",
    "        y = i % 4\n",
    "        if len(features) <= 4:\n",
    "            axs = axes[y]\n",
    "        else:\n",
    "            axs = axes[x, y]\n",
    "        pl = sns.countplot(\n",
    "            ax = axs,\n",
    "            x = feat,\n",
    "            data = data,\n",
    "            hue = target)"
   ]
  },
  {
   "cell_type": "markdown",
   "id": "3559f95a-d209-43dd-b3b6-d8b0d30ec901",
   "metadata": {},
   "source": [
    "# Get and Prepare Data "
   ]
  },
  {
   "cell_type": "code",
   "execution_count": 3,
   "id": "d468c687-d8b2-4dd7-8a63-829d29c5985b",
   "metadata": {},
   "outputs": [],
   "source": [
    "df = pd.read_csv('./data/large_train_sample.csv')"
   ]
  },
  {
   "cell_type": "code",
   "execution_count": 4,
   "id": "815e9f0b-d7dc-4c91-b49b-18f034687f49",
   "metadata": {},
   "outputs": [
    {
     "data": {
      "text/html": [
       "<div>\n",
       "<style scoped>\n",
       "    .dataframe tbody tr th:only-of-type {\n",
       "        vertical-align: middle;\n",
       "    }\n",
       "\n",
       "    .dataframe tbody tr th {\n",
       "        vertical-align: top;\n",
       "    }\n",
       "\n",
       "    .dataframe thead th {\n",
       "        text-align: right;\n",
       "    }\n",
       "</style>\n",
       "<table border=\"1\" class=\"dataframe\">\n",
       "  <thead>\n",
       "    <tr style=\"text-align: right;\">\n",
       "      <th></th>\n",
       "      <th>age</th>\n",
       "      <th>workclass</th>\n",
       "      <th>fnlwgt</th>\n",
       "      <th>education</th>\n",
       "      <th>education-num</th>\n",
       "      <th>marital-status</th>\n",
       "      <th>occupation</th>\n",
       "      <th>relationship</th>\n",
       "      <th>sex</th>\n",
       "      <th>capital-gain</th>\n",
       "      <th>capital-loss</th>\n",
       "      <th>hours-per-week</th>\n",
       "      <th>native-country</th>\n",
       "      <th>wage</th>\n",
       "    </tr>\n",
       "  </thead>\n",
       "  <tbody>\n",
       "    <tr>\n",
       "      <th>0</th>\n",
       "      <td>39</td>\n",
       "      <td>State-gov</td>\n",
       "      <td>77516</td>\n",
       "      <td>Bachelors</td>\n",
       "      <td>13</td>\n",
       "      <td>Never-married</td>\n",
       "      <td>Adm-clerical</td>\n",
       "      <td>Not-in-family</td>\n",
       "      <td>Male</td>\n",
       "      <td>2174</td>\n",
       "      <td>0</td>\n",
       "      <td>40</td>\n",
       "      <td>United-States</td>\n",
       "      <td>&lt;=50K</td>\n",
       "    </tr>\n",
       "    <tr>\n",
       "      <th>1</th>\n",
       "      <td>50</td>\n",
       "      <td>Self-emp-not-inc</td>\n",
       "      <td>83311</td>\n",
       "      <td>Bachelors</td>\n",
       "      <td>13</td>\n",
       "      <td>Married-civ-spouse</td>\n",
       "      <td>Exec-managerial</td>\n",
       "      <td>Husband</td>\n",
       "      <td>Male</td>\n",
       "      <td>0</td>\n",
       "      <td>0</td>\n",
       "      <td>13</td>\n",
       "      <td>United-States</td>\n",
       "      <td>&lt;=50K</td>\n",
       "    </tr>\n",
       "    <tr>\n",
       "      <th>2</th>\n",
       "      <td>38</td>\n",
       "      <td>Private</td>\n",
       "      <td>215646</td>\n",
       "      <td>HS-grad</td>\n",
       "      <td>9</td>\n",
       "      <td>Divorced</td>\n",
       "      <td>Handlers-cleaners</td>\n",
       "      <td>Not-in-family</td>\n",
       "      <td>Male</td>\n",
       "      <td>0</td>\n",
       "      <td>0</td>\n",
       "      <td>40</td>\n",
       "      <td>United-States</td>\n",
       "      <td>&lt;=50K</td>\n",
       "    </tr>\n",
       "    <tr>\n",
       "      <th>3</th>\n",
       "      <td>53</td>\n",
       "      <td>Private</td>\n",
       "      <td>234721</td>\n",
       "      <td>11th</td>\n",
       "      <td>7</td>\n",
       "      <td>Married-civ-spouse</td>\n",
       "      <td>Handlers-cleaners</td>\n",
       "      <td>Husband</td>\n",
       "      <td>Male</td>\n",
       "      <td>0</td>\n",
       "      <td>0</td>\n",
       "      <td>40</td>\n",
       "      <td>United-States</td>\n",
       "      <td>&lt;=50K</td>\n",
       "    </tr>\n",
       "    <tr>\n",
       "      <th>4</th>\n",
       "      <td>28</td>\n",
       "      <td>Private</td>\n",
       "      <td>338409</td>\n",
       "      <td>Bachelors</td>\n",
       "      <td>13</td>\n",
       "      <td>Married-civ-spouse</td>\n",
       "      <td>Prof-specialty</td>\n",
       "      <td>Wife</td>\n",
       "      <td>Female</td>\n",
       "      <td>0</td>\n",
       "      <td>0</td>\n",
       "      <td>40</td>\n",
       "      <td>Cuba</td>\n",
       "      <td>&lt;=50K</td>\n",
       "    </tr>\n",
       "  </tbody>\n",
       "</table>\n",
       "</div>"
      ],
      "text/plain": [
       "   age          workclass  fnlwgt   education  education-num  \\\n",
       "0   39          State-gov   77516   Bachelors             13   \n",
       "1   50   Self-emp-not-inc   83311   Bachelors             13   \n",
       "2   38            Private  215646     HS-grad              9   \n",
       "3   53            Private  234721        11th              7   \n",
       "4   28            Private  338409   Bachelors             13   \n",
       "\n",
       "        marital-status          occupation    relationship      sex  \\\n",
       "0        Never-married        Adm-clerical   Not-in-family     Male   \n",
       "1   Married-civ-spouse     Exec-managerial         Husband     Male   \n",
       "2             Divorced   Handlers-cleaners   Not-in-family     Male   \n",
       "3   Married-civ-spouse   Handlers-cleaners         Husband     Male   \n",
       "4   Married-civ-spouse      Prof-specialty            Wife   Female   \n",
       "\n",
       "   capital-gain  capital-loss  hours-per-week  native-country    wage  \n",
       "0          2174             0              40   United-States   <=50K  \n",
       "1             0             0              13   United-States   <=50K  \n",
       "2             0             0              40   United-States   <=50K  \n",
       "3             0             0              40   United-States   <=50K  \n",
       "4             0             0              40            Cuba   <=50K  "
      ]
     },
     "execution_count": 4,
     "metadata": {},
     "output_type": "execute_result"
    }
   ],
   "source": [
    "df.head()"
   ]
  },
  {
   "cell_type": "code",
   "execution_count": 5,
   "id": "8a2bd70f-3ebd-48cb-a72a-af73f815818d",
   "metadata": {},
   "outputs": [
    {
     "data": {
      "text/plain": [
       "array([' State-gov', ' Self-emp-not-inc', ' Private', ' Federal-gov',\n",
       "       ' Local-gov', ' ?', ' Self-emp-inc', ' Without-pay',\n",
       "       ' Never-worked'], dtype=object)"
      ]
     },
     "execution_count": 5,
     "metadata": {},
     "output_type": "execute_result"
    }
   ],
   "source": [
    "# Check value from 'workclass'\n",
    "df['workclass'].unique()\n",
    "\n",
    "## Has space in front of text"
   ]
  },
  {
   "cell_type": "code",
   "execution_count": 6,
   "id": "5a3d2f49-8cb1-48c7-8828-911a56e163a2",
   "metadata": {},
   "outputs": [],
   "source": [
    "# Trim text data\n",
    "cols = ['workclass', 'education', 'marital-status', 'occupation', 'relationship', 'sex', 'native-country', 'wage']\n",
    "for col in cols:\n",
    "    df[col] = df[col].str.replace(' ', '')"
   ]
  },
  {
   "cell_type": "code",
   "execution_count": 7,
   "id": "a52de215-5c4f-4210-aa4a-f00b069caf9e",
   "metadata": {},
   "outputs": [
    {
     "data": {
      "text/plain": [
       "array(['State-gov', 'Self-emp-not-inc', 'Private', 'Federal-gov',\n",
       "       'Local-gov', '?', 'Self-emp-inc', 'Without-pay', 'Never-worked'],\n",
       "      dtype=object)"
      ]
     },
     "execution_count": 7,
     "metadata": {},
     "output_type": "execute_result"
    }
   ],
   "source": [
    "# Check value from 'workclass'\n",
    "df['workclass'].unique()"
   ]
  },
  {
   "cell_type": "markdown",
   "id": "e9721015-1096-442b-85e4-6ee9029ce148",
   "metadata": {},
   "source": [
    "# EDA"
   ]
  },
  {
   "cell_type": "code",
   "execution_count": 8,
   "id": "ce6662cf-7fe4-43da-a56d-c4ef012c1c47",
   "metadata": {},
   "outputs": [
    {
     "data": {
      "text/plain": [
       "age                int64\n",
       "workclass         object\n",
       "fnlwgt             int64\n",
       "education         object\n",
       "education-num      int64\n",
       "marital-status    object\n",
       "occupation        object\n",
       "relationship      object\n",
       "sex               object\n",
       "capital-gain       int64\n",
       "capital-loss       int64\n",
       "hours-per-week     int64\n",
       "native-country    object\n",
       "wage              object\n",
       "dtype: object"
      ]
     },
     "execution_count": 8,
     "metadata": {},
     "output_type": "execute_result"
    }
   ],
   "source": [
    "df.dtypes"
   ]
  },
  {
   "cell_type": "code",
   "execution_count": 9,
   "id": "4459c5a8-5d3d-4688-a6c5-8b562667409c",
   "metadata": {},
   "outputs": [
    {
     "data": {
      "text/plain": [
       "age               0\n",
       "workclass         0\n",
       "fnlwgt            0\n",
       "education         0\n",
       "education-num     0\n",
       "marital-status    0\n",
       "occupation        0\n",
       "relationship      0\n",
       "sex               0\n",
       "capital-gain      0\n",
       "capital-loss      0\n",
       "hours-per-week    0\n",
       "native-country    0\n",
       "wage              0\n",
       "dtype: int64"
      ]
     },
     "execution_count": 9,
     "metadata": {},
     "output_type": "execute_result"
    }
   ],
   "source": [
    "df.isnull().sum()"
   ]
  },
  {
   "cell_type": "markdown",
   "id": "9bff627a-9c6d-4106-a740-1ddaa46de3aa",
   "metadata": {},
   "source": [
    "## Wage with Numerical"
   ]
  },
  {
   "cell_type": "markdown",
   "id": "b7a6df81-3315-4173-95d7-993467517c38",
   "metadata": {},
   "source": [
    "## Wage with Categorical"
   ]
  },
  {
   "cell_type": "code",
   "execution_count": 10,
   "id": "093e4f8d-bc3e-4e17-855d-9585b2d459e2",
   "metadata": {},
   "outputs": [],
   "source": [
    "# Get all categorical vars name\n",
    "all_category = ['workclass', 'education', 'marital-status', 'occupation', 'relationship', 'sex', 'native-country']"
   ]
  },
  {
   "cell_type": "code",
   "execution_count": 11,
   "id": "3501ff6e-0ebf-47f5-82b8-71fa48a130ca",
   "metadata": {},
   "outputs": [
    {
     "data": {
      "image/png": "[encoded data removed]",
      "text/plain": [
       "<Figure size 1440x720 with 8 Axes>"
      ]
     },
     "metadata": {
      "needs_background": "light"
     },
     "output_type": "display_data"
    }
   ],
   "source": [
    "# Plot barchart vs. wage\n",
    "# Create countplots for all categorical variables\n",
    "countplot_chart(data = df,\n",
    "                features = all_category, \n",
    "                target = 'wage')\n",
    "\n",
    "# Lots of categorical variables have too many categories inside,\n",
    "# we need to bin it smaller."
   ]
  },
  {
   "cell_type": "markdown",
   "id": "08ab858e-23e9-4e62-bc04-e2721e4a9459",
   "metadata": {},
   "source": [
    "### workclass"
   ]
  },
  {
   "cell_type": "code",
   "execution_count": 12,
   "id": "c2d7cb6d-63d3-4677-81ed-137a63a0c04a",
   "metadata": {},
   "outputs": [
    {
     "data": {
      "text/plain": [
       "wage   workclass       \n",
       "<=50K  Private             71.74\n",
       "       Self-emp-not-inc     7.35\n",
       "       ?                    6.65\n",
       "       Local-gov            5.97\n",
       "       State-gov            3.82\n",
       "       Federal-gov          2.38\n",
       "       Self-emp-inc         2.00\n",
       "       Without-pay          0.06\n",
       "       Never-worked         0.03\n",
       ">50K   Private             63.30\n",
       "       Self-emp-not-inc     9.23\n",
       "       Self-emp-inc         7.93\n",
       "       Local-gov            7.87\n",
       "       Federal-gov          4.73\n",
       "       State-gov            4.50\n",
       "       ?                    2.44\n",
       "Name: workclass, dtype: float64"
      ]
     },
     "execution_count": 12,
     "metadata": {},
     "output_type": "execute_result"
    }
   ],
   "source": [
    "# Group by work class\n",
    "df.groupby('wage')['workclass'].value_counts(normalize=True).mul(100).round(2)"
   ]
  },
  {
   "cell_type": "code",
   "execution_count": 13,
   "id": "dc9c1fea-80a1-4077-bc87-83ce13edb921",
   "metadata": {},
   "outputs": [
    {
     "data": {
      "text/html": [
       "<div>\n",
       "<style scoped>\n",
       "    .dataframe tbody tr th:only-of-type {\n",
       "        vertical-align: middle;\n",
       "    }\n",
       "\n",
       "    .dataframe tbody tr th {\n",
       "        vertical-align: top;\n",
       "    }\n",
       "\n",
       "    .dataframe thead th {\n",
       "        text-align: right;\n",
       "    }\n",
       "</style>\n",
       "<table border=\"1\" class=\"dataframe\">\n",
       "  <thead>\n",
       "    <tr style=\"text-align: right;\">\n",
       "      <th></th>\n",
       "      <th>workclass</th>\n",
       "      <th>wage</th>\n",
       "      <th>count</th>\n",
       "    </tr>\n",
       "  </thead>\n",
       "  <tbody>\n",
       "    <tr>\n",
       "      <th>0</th>\n",
       "      <td>?</td>\n",
       "      <td>&lt;=50K</td>\n",
       "      <td>89.60</td>\n",
       "    </tr>\n",
       "    <tr>\n",
       "      <th>1</th>\n",
       "      <td>?</td>\n",
       "      <td>&gt;50K</td>\n",
       "      <td>10.40</td>\n",
       "    </tr>\n",
       "    <tr>\n",
       "      <th>2</th>\n",
       "      <td>Federal-gov</td>\n",
       "      <td>&lt;=50K</td>\n",
       "      <td>61.35</td>\n",
       "    </tr>\n",
       "    <tr>\n",
       "      <th>3</th>\n",
       "      <td>Federal-gov</td>\n",
       "      <td>&gt;50K</td>\n",
       "      <td>38.65</td>\n",
       "    </tr>\n",
       "    <tr>\n",
       "      <th>4</th>\n",
       "      <td>Local-gov</td>\n",
       "      <td>&lt;=50K</td>\n",
       "      <td>70.52</td>\n",
       "    </tr>\n",
       "    <tr>\n",
       "      <th>5</th>\n",
       "      <td>Local-gov</td>\n",
       "      <td>&gt;50K</td>\n",
       "      <td>29.48</td>\n",
       "    </tr>\n",
       "    <tr>\n",
       "      <th>6</th>\n",
       "      <td>Never-worked</td>\n",
       "      <td>&lt;=50K</td>\n",
       "      <td>100.00</td>\n",
       "    </tr>\n",
       "    <tr>\n",
       "      <th>7</th>\n",
       "      <td>Private</td>\n",
       "      <td>&lt;=50K</td>\n",
       "      <td>78.13</td>\n",
       "    </tr>\n",
       "    <tr>\n",
       "      <th>8</th>\n",
       "      <td>Private</td>\n",
       "      <td>&gt;50K</td>\n",
       "      <td>21.87</td>\n",
       "    </tr>\n",
       "    <tr>\n",
       "      <th>9</th>\n",
       "      <td>Self-emp-inc</td>\n",
       "      <td>&gt;50K</td>\n",
       "      <td>55.73</td>\n",
       "    </tr>\n",
       "    <tr>\n",
       "      <th>10</th>\n",
       "      <td>Self-emp-inc</td>\n",
       "      <td>&lt;=50K</td>\n",
       "      <td>44.27</td>\n",
       "    </tr>\n",
       "    <tr>\n",
       "      <th>11</th>\n",
       "      <td>Self-emp-not-inc</td>\n",
       "      <td>&lt;=50K</td>\n",
       "      <td>71.51</td>\n",
       "    </tr>\n",
       "    <tr>\n",
       "      <th>12</th>\n",
       "      <td>Self-emp-not-inc</td>\n",
       "      <td>&gt;50K</td>\n",
       "      <td>28.49</td>\n",
       "    </tr>\n",
       "    <tr>\n",
       "      <th>13</th>\n",
       "      <td>State-gov</td>\n",
       "      <td>&lt;=50K</td>\n",
       "      <td>72.80</td>\n",
       "    </tr>\n",
       "    <tr>\n",
       "      <th>14</th>\n",
       "      <td>State-gov</td>\n",
       "      <td>&gt;50K</td>\n",
       "      <td>27.20</td>\n",
       "    </tr>\n",
       "    <tr>\n",
       "      <th>15</th>\n",
       "      <td>Without-pay</td>\n",
       "      <td>&lt;=50K</td>\n",
       "      <td>100.00</td>\n",
       "    </tr>\n",
       "  </tbody>\n",
       "</table>\n",
       "</div>"
      ],
      "text/plain": [
       "           workclass   wage   count\n",
       "0                  ?  <=50K   89.60\n",
       "1                  ?   >50K   10.40\n",
       "2        Federal-gov  <=50K   61.35\n",
       "3        Federal-gov   >50K   38.65\n",
       "4          Local-gov  <=50K   70.52\n",
       "5          Local-gov   >50K   29.48\n",
       "6       Never-worked  <=50K  100.00\n",
       "7            Private  <=50K   78.13\n",
       "8            Private   >50K   21.87\n",
       "9       Self-emp-inc   >50K   55.73\n",
       "10      Self-emp-inc  <=50K   44.27\n",
       "11  Self-emp-not-inc  <=50K   71.51\n",
       "12  Self-emp-not-inc   >50K   28.49\n",
       "13         State-gov  <=50K   72.80\n",
       "14         State-gov   >50K   27.20\n",
       "15       Without-pay  <=50K  100.00"
      ]
     },
     "execution_count": 13,
     "metadata": {},
     "output_type": "execute_result"
    }
   ],
   "source": [
    "# Group by work class\n",
    "groupby_workclass = pd.DataFrame(df.groupby('workclass')['wage'].value_counts(normalize=True).mul(100).round(2))\n",
    "groupby_workclass.columns = ['count']\n",
    "groupby_workclass.reset_index(inplace=True)\n",
    "groupby_workclass\n",
    "# groupby_workclass[groupby_workclass['wage']=='<=50K']"
   ]
  },
  {
   "cell_type": "code",
   "execution_count": 14,
   "id": "54b3b818-4eef-41fd-91fc-3de880d6e910",
   "metadata": {},
   "outputs": [
    {
     "data": {
      "text/plain": [
       "3     Federal-gov\n",
       "9    Self-emp-inc\n",
       "Name: workclass, dtype: object"
      ]
     },
     "execution_count": 14,
     "metadata": {},
     "output_type": "execute_result"
    }
   ],
   "source": [
    "groupby_workclass[(groupby_workclass['wage']=='>50K')][groupby_workclass[(groupby_workclass['wage']=='>50K')]['count'] >= 30]['workclass']"
   ]
  },
  {
   "cell_type": "code",
   "execution_count": 15,
   "id": "a0c95d30-9414-483a-846d-f53e2a6c610f",
   "metadata": {},
   "outputs": [
    {
     "data": {
      "text/plain": [
       "['Never-worked', 'Without-pay']"
      ]
     },
     "execution_count": 15,
     "metadata": {},
     "output_type": "execute_result"
    }
   ],
   "source": [
    "list(groupby_workclass[(groupby_workclass['wage']=='<=50K')]\\\n",
    "[groupby_workclass[(groupby_workclass['wage']=='<=50K')]['count'] >= 100]['workclass'])"
   ]
  },
  {
   "cell_type": "code",
   "execution_count": 16,
   "id": "25c16f42-bde8-4556-b24c-53f52137e2b0",
   "metadata": {},
   "outputs": [],
   "source": [
    "# Can be devided to 3 groups\n",
    "# 1. <= 50k 100%\n",
    "workclass_group1 = list(groupby_workclass[(groupby_workclass['wage']=='<=50K')]\\\n",
    "[groupby_workclass[(groupby_workclass['wage']=='<=50K')]['count'] >= 100]['workclass'])\n",
    "\n",
    "# 2. likly to gt than >50k: count > 30%\n",
    "workclass_group2 = list(groupby_workclass[(groupby_workclass['wage']=='>50K')]\\\n",
    "[groupby_workclass[(groupby_workclass['wage']=='>50K')]['count'] >= 30]['workclass'])\n",
    "# 3. the rest"
   ]
  },
  {
   "cell_type": "code",
   "execution_count": 17,
   "id": "02c917ca-0816-4e36-96d3-b458014a7e88",
   "metadata": {},
   "outputs": [],
   "source": [
    "# Binize group\n",
    "def group_workclass(label):\n",
    "    if label in workclass_group1: # group 1\n",
    "        return 'g1'\n",
    "    elif label in workclass_group2: # group 2\n",
    "        return 'g2'\n",
    "    else:\n",
    "        return 'g3' # group 3"
   ]
  },
  {
   "cell_type": "code",
   "execution_count": 18,
   "id": "e86ae43b-defb-4e49-957f-e73a00975b72",
   "metadata": {},
   "outputs": [],
   "source": [
    "df['group_workclass'] = df['workclass'].apply(group_workclass)"
   ]
  },
  {
   "cell_type": "code",
   "execution_count": 19,
   "id": "87410c0d-90f7-43cf-8aba-1b6b59c368d5",
   "metadata": {},
   "outputs": [
    {
     "data": {
      "text/plain": [
       "group_workclass  workclass       \n",
       "g1               Without-pay            14\n",
       "                 Never-worked            7\n",
       "g2               Self-emp-inc         1116\n",
       "                 Federal-gov           960\n",
       "g3               Private             22696\n",
       "                 Self-emp-not-inc     2541\n",
       "                 Local-gov            2093\n",
       "                 ?                    1836\n",
       "                 State-gov            1298\n",
       "Name: workclass, dtype: int64"
      ]
     },
     "execution_count": 19,
     "metadata": {},
     "output_type": "execute_result"
    }
   ],
   "source": [
    "# Validate groupby\n",
    "df.groupby(['group_workclass'])['workclass'].value_counts()"
   ]
  },
  {
   "cell_type": "markdown",
   "id": "b76f78de-ec70-41ed-9130-08a92e555b3f",
   "metadata": {},
   "source": [
    "### education"
   ]
  },
  {
   "cell_type": "code",
   "execution_count": 20,
   "id": "1ee58de7-8d07-4941-9795-49a6ce69c9f5",
   "metadata": {},
   "outputs": [
    {
     "data": {
      "text/html": [
       "<div>\n",
       "<style scoped>\n",
       "    .dataframe tbody tr th:only-of-type {\n",
       "        vertical-align: middle;\n",
       "    }\n",
       "\n",
       "    .dataframe tbody tr th {\n",
       "        vertical-align: top;\n",
       "    }\n",
       "\n",
       "    .dataframe thead th {\n",
       "        text-align: right;\n",
       "    }\n",
       "</style>\n",
       "<table border=\"1\" class=\"dataframe\">\n",
       "  <thead>\n",
       "    <tr style=\"text-align: right;\">\n",
       "      <th></th>\n",
       "      <th>education</th>\n",
       "      <th>wage</th>\n",
       "      <th>count</th>\n",
       "    </tr>\n",
       "  </thead>\n",
       "  <tbody>\n",
       "    <tr>\n",
       "      <th>1</th>\n",
       "      <td>10th</td>\n",
       "      <td>&gt;50K</td>\n",
       "      <td>6.65</td>\n",
       "    </tr>\n",
       "    <tr>\n",
       "      <th>3</th>\n",
       "      <td>11th</td>\n",
       "      <td>&gt;50K</td>\n",
       "      <td>5.11</td>\n",
       "    </tr>\n",
       "    <tr>\n",
       "      <th>5</th>\n",
       "      <td>12th</td>\n",
       "      <td>&gt;50K</td>\n",
       "      <td>7.62</td>\n",
       "    </tr>\n",
       "    <tr>\n",
       "      <th>7</th>\n",
       "      <td>1st-4th</td>\n",
       "      <td>&gt;50K</td>\n",
       "      <td>3.57</td>\n",
       "    </tr>\n",
       "    <tr>\n",
       "      <th>9</th>\n",
       "      <td>5th-6th</td>\n",
       "      <td>&gt;50K</td>\n",
       "      <td>4.80</td>\n",
       "    </tr>\n",
       "    <tr>\n",
       "      <th>11</th>\n",
       "      <td>7th-8th</td>\n",
       "      <td>&gt;50K</td>\n",
       "      <td>6.19</td>\n",
       "    </tr>\n",
       "    <tr>\n",
       "      <th>13</th>\n",
       "      <td>9th</td>\n",
       "      <td>&gt;50K</td>\n",
       "      <td>5.25</td>\n",
       "    </tr>\n",
       "    <tr>\n",
       "      <th>15</th>\n",
       "      <td>Assoc-acdm</td>\n",
       "      <td>&gt;50K</td>\n",
       "      <td>24.84</td>\n",
       "    </tr>\n",
       "    <tr>\n",
       "      <th>17</th>\n",
       "      <td>Assoc-voc</td>\n",
       "      <td>&gt;50K</td>\n",
       "      <td>26.12</td>\n",
       "    </tr>\n",
       "    <tr>\n",
       "      <th>19</th>\n",
       "      <td>Bachelors</td>\n",
       "      <td>&gt;50K</td>\n",
       "      <td>41.48</td>\n",
       "    </tr>\n",
       "    <tr>\n",
       "      <th>20</th>\n",
       "      <td>Doctorate</td>\n",
       "      <td>&gt;50K</td>\n",
       "      <td>74.09</td>\n",
       "    </tr>\n",
       "    <tr>\n",
       "      <th>23</th>\n",
       "      <td>HS-grad</td>\n",
       "      <td>&gt;50K</td>\n",
       "      <td>15.95</td>\n",
       "    </tr>\n",
       "    <tr>\n",
       "      <th>24</th>\n",
       "      <td>Masters</td>\n",
       "      <td>&gt;50K</td>\n",
       "      <td>55.66</td>\n",
       "    </tr>\n",
       "    <tr>\n",
       "      <th>27</th>\n",
       "      <td>Prof-school</td>\n",
       "      <td>&gt;50K</td>\n",
       "      <td>73.44</td>\n",
       "    </tr>\n",
       "    <tr>\n",
       "      <th>30</th>\n",
       "      <td>Some-college</td>\n",
       "      <td>&gt;50K</td>\n",
       "      <td>19.02</td>\n",
       "    </tr>\n",
       "  </tbody>\n",
       "</table>\n",
       "</div>"
      ],
      "text/plain": [
       "       education  wage  count\n",
       "1           10th  >50K   6.65\n",
       "3           11th  >50K   5.11\n",
       "5           12th  >50K   7.62\n",
       "7        1st-4th  >50K   3.57\n",
       "9        5th-6th  >50K   4.80\n",
       "11       7th-8th  >50K   6.19\n",
       "13           9th  >50K   5.25\n",
       "15    Assoc-acdm  >50K  24.84\n",
       "17     Assoc-voc  >50K  26.12\n",
       "19     Bachelors  >50K  41.48\n",
       "20     Doctorate  >50K  74.09\n",
       "23       HS-grad  >50K  15.95\n",
       "24       Masters  >50K  55.66\n",
       "27   Prof-school  >50K  73.44\n",
       "30  Some-college  >50K  19.02"
      ]
     },
     "execution_count": 20,
     "metadata": {},
     "output_type": "execute_result"
    }
   ],
   "source": [
    "# Group by work class\n",
    "groupby_education = pd.DataFrame(df.groupby('education')['wage'].value_counts(normalize=True).mul(100).round(2))\n",
    "groupby_education.columns = ['count']\n",
    "groupby_education.reset_index(inplace=True)\n",
    "groupby_education[groupby_education['wage']=='>50K']"
   ]
  },
  {
   "cell_type": "code",
   "execution_count": 21,
   "id": "69235999-576e-44bf-a8ce-9073d13166a4",
   "metadata": {},
   "outputs": [
    {
     "data": {
      "text/plain": [
       "group_education  education   \n",
       "g1               Masters          1723\n",
       "                 Prof-school       576\n",
       "                 Doctorate         413\n",
       "g2               HS-grad         10501\n",
       "                 Some-college     7291\n",
       "                 Bachelors        5355\n",
       "                 Assoc-voc        1382\n",
       "                 11th             1175\n",
       "                 Assoc-acdm       1067\n",
       "                 10th              933\n",
       "                 7th-8th           646\n",
       "                 9th               514\n",
       "                 12th              433\n",
       "                 5th-6th           333\n",
       "                 1st-4th           168\n",
       "                 Preschool          51\n",
       "Name: education, dtype: int64"
      ]
     },
     "execution_count": 21,
     "metadata": {},
     "output_type": "execute_result"
    }
   ],
   "source": [
    "# Can be devided into 2 groups\n",
    "# 1. wage >50k count >= 50%\n",
    "edu_group1 = list(groupby_education[groupby_education['wage']=='>50K']\\\n",
    "              [groupby_education[groupby_education['wage']=='>50K']['count'] > 50]['education'])\n",
    "\n",
    "# 2. the rest\n",
    "\n",
    "# Binize group\n",
    "def group_education(label):\n",
    "    if label in edu_group1:\n",
    "        return 'g1'\n",
    "    else:\n",
    "        return 'g2'\n",
    "    \n",
    "# Apply function   \n",
    "df['group_education'] = df['education'].apply(group_education)\n",
    "\n",
    "# Validate groupby\n",
    "df.groupby(['group_education'])['education'].value_counts()"
   ]
  },
  {
   "cell_type": "markdown",
   "id": "8dfb134c-361b-42b6-ab53-e38f911829b3",
   "metadata": {},
   "source": [
    "### marital-status"
   ]
  },
  {
   "cell_type": "code",
   "execution_count": 22,
   "id": "a547f4db-ab3e-42bb-bee6-932797797b32",
   "metadata": {},
   "outputs": [
    {
     "data": {
      "text/html": [
       "<div>\n",
       "<style scoped>\n",
       "    .dataframe tbody tr th:only-of-type {\n",
       "        vertical-align: middle;\n",
       "    }\n",
       "\n",
       "    .dataframe tbody tr th {\n",
       "        vertical-align: top;\n",
       "    }\n",
       "\n",
       "    .dataframe thead th {\n",
       "        text-align: right;\n",
       "    }\n",
       "</style>\n",
       "<table border=\"1\" class=\"dataframe\">\n",
       "  <thead>\n",
       "    <tr style=\"text-align: right;\">\n",
       "      <th></th>\n",
       "      <th>marital-status</th>\n",
       "      <th>wage</th>\n",
       "      <th>count</th>\n",
       "    </tr>\n",
       "  </thead>\n",
       "  <tbody>\n",
       "    <tr>\n",
       "      <th>1</th>\n",
       "      <td>Divorced</td>\n",
       "      <td>&gt;50K</td>\n",
       "      <td>10.42</td>\n",
       "    </tr>\n",
       "    <tr>\n",
       "      <th>3</th>\n",
       "      <td>Married-AF-spouse</td>\n",
       "      <td>&gt;50K</td>\n",
       "      <td>43.48</td>\n",
       "    </tr>\n",
       "    <tr>\n",
       "      <th>5</th>\n",
       "      <td>Married-civ-spouse</td>\n",
       "      <td>&gt;50K</td>\n",
       "      <td>44.68</td>\n",
       "    </tr>\n",
       "    <tr>\n",
       "      <th>7</th>\n",
       "      <td>Married-spouse-absent</td>\n",
       "      <td>&gt;50K</td>\n",
       "      <td>8.13</td>\n",
       "    </tr>\n",
       "    <tr>\n",
       "      <th>9</th>\n",
       "      <td>Never-married</td>\n",
       "      <td>&gt;50K</td>\n",
       "      <td>4.60</td>\n",
       "    </tr>\n",
       "    <tr>\n",
       "      <th>11</th>\n",
       "      <td>Separated</td>\n",
       "      <td>&gt;50K</td>\n",
       "      <td>6.44</td>\n",
       "    </tr>\n",
       "    <tr>\n",
       "      <th>13</th>\n",
       "      <td>Widowed</td>\n",
       "      <td>&gt;50K</td>\n",
       "      <td>8.56</td>\n",
       "    </tr>\n",
       "  </tbody>\n",
       "</table>\n",
       "</div>"
      ],
      "text/plain": [
       "           marital-status  wage  count\n",
       "1                Divorced  >50K  10.42\n",
       "3       Married-AF-spouse  >50K  43.48\n",
       "5      Married-civ-spouse  >50K  44.68\n",
       "7   Married-spouse-absent  >50K   8.13\n",
       "9           Never-married  >50K   4.60\n",
       "11              Separated  >50K   6.44\n",
       "13                Widowed  >50K   8.56"
      ]
     },
     "execution_count": 22,
     "metadata": {},
     "output_type": "execute_result"
    }
   ],
   "source": [
    "# Group by work class\n",
    "groupby_marital = pd.DataFrame(df.groupby('marital-status')['wage'].value_counts(normalize=True).mul(100).round(2))\n",
    "groupby_marital.columns = ['count']\n",
    "groupby_marital.reset_index(inplace=True)\n",
    "# groupby_marital\n",
    "groupby_marital[groupby_marital['wage']=='>50K']"
   ]
  },
  {
   "cell_type": "code",
   "execution_count": 23,
   "id": "44a843ce-a1f3-4770-af43-094803e69c84",
   "metadata": {},
   "outputs": [
    {
     "data": {
      "text/plain": [
       "group_marital-status  marital-status       \n",
       "g1                    Married-civ-spouse       14976\n",
       "                      Married-AF-spouse           23\n",
       "g2                    Never-married            10683\n",
       "                      Divorced                  4443\n",
       "                      Separated                 1025\n",
       "                      Widowed                    993\n",
       "                      Married-spouse-absent      418\n",
       "Name: marital-status, dtype: int64"
      ]
     },
     "execution_count": 23,
     "metadata": {},
     "output_type": "execute_result"
    }
   ],
   "source": [
    "# Can be devided into 2 groups\n",
    "# 1. wage >50k count >= 40%\n",
    "marital_group1 = list(groupby_marital[groupby_marital['wage']=='>50K']\\\n",
    "              [groupby_marital[groupby_marital['wage']=='>50K']['count'] > 40]['marital-status'])\n",
    "\n",
    "# 2. the rest\n",
    "\n",
    "# Binize group\n",
    "def group_marital(label):\n",
    "    if label in marital_group1:\n",
    "        return 'g1'\n",
    "    else:\n",
    "        return 'g2'\n",
    "    \n",
    "# Apply function   \n",
    "df['group_marital-status'] = df['marital-status'].apply(group_marital)\n",
    "\n",
    "# Validate groupby\n",
    "df.groupby(['group_marital-status'])['marital-status'].value_counts()"
   ]
  },
  {
   "cell_type": "markdown",
   "id": "4773410f-5622-4d0a-bac7-0d4e78587f62",
   "metadata": {},
   "source": [
    "### occupation"
   ]
  },
  {
   "cell_type": "code",
   "execution_count": 24,
   "id": "7ec69d29-21b2-4859-80ba-7ca58415cebf",
   "metadata": {},
   "outputs": [
    {
     "name": "stdout",
     "output_type": "stream",
     "text": [
      "#vars: 15\n"
     ]
    },
    {
     "data": {
      "text/html": [
       "<div>\n",
       "<style scoped>\n",
       "    .dataframe tbody tr th:only-of-type {\n",
       "        vertical-align: middle;\n",
       "    }\n",
       "\n",
       "    .dataframe tbody tr th {\n",
       "        vertical-align: top;\n",
       "    }\n",
       "\n",
       "    .dataframe thead th {\n",
       "        text-align: right;\n",
       "    }\n",
       "</style>\n",
       "<table border=\"1\" class=\"dataframe\">\n",
       "  <thead>\n",
       "    <tr style=\"text-align: right;\">\n",
       "      <th></th>\n",
       "      <th>occupation</th>\n",
       "      <th>wage</th>\n",
       "      <th>count</th>\n",
       "    </tr>\n",
       "  </thead>\n",
       "  <tbody>\n",
       "    <tr>\n",
       "      <th>1</th>\n",
       "      <td>?</td>\n",
       "      <td>&gt;50K</td>\n",
       "      <td>10.36</td>\n",
       "    </tr>\n",
       "    <tr>\n",
       "      <th>3</th>\n",
       "      <td>Adm-clerical</td>\n",
       "      <td>&gt;50K</td>\n",
       "      <td>13.45</td>\n",
       "    </tr>\n",
       "    <tr>\n",
       "      <th>5</th>\n",
       "      <td>Armed-Forces</td>\n",
       "      <td>&gt;50K</td>\n",
       "      <td>11.11</td>\n",
       "    </tr>\n",
       "    <tr>\n",
       "      <th>7</th>\n",
       "      <td>Craft-repair</td>\n",
       "      <td>&gt;50K</td>\n",
       "      <td>22.66</td>\n",
       "    </tr>\n",
       "    <tr>\n",
       "      <th>9</th>\n",
       "      <td>Exec-managerial</td>\n",
       "      <td>&gt;50K</td>\n",
       "      <td>48.40</td>\n",
       "    </tr>\n",
       "    <tr>\n",
       "      <th>11</th>\n",
       "      <td>Farming-fishing</td>\n",
       "      <td>&gt;50K</td>\n",
       "      <td>11.57</td>\n",
       "    </tr>\n",
       "    <tr>\n",
       "      <th>13</th>\n",
       "      <td>Handlers-cleaners</td>\n",
       "      <td>&gt;50K</td>\n",
       "      <td>6.28</td>\n",
       "    </tr>\n",
       "    <tr>\n",
       "      <th>15</th>\n",
       "      <td>Machine-op-inspct</td>\n",
       "      <td>&gt;50K</td>\n",
       "      <td>12.49</td>\n",
       "    </tr>\n",
       "    <tr>\n",
       "      <th>17</th>\n",
       "      <td>Other-service</td>\n",
       "      <td>&gt;50K</td>\n",
       "      <td>4.16</td>\n",
       "    </tr>\n",
       "    <tr>\n",
       "      <th>19</th>\n",
       "      <td>Priv-house-serv</td>\n",
       "      <td>&gt;50K</td>\n",
       "      <td>0.67</td>\n",
       "    </tr>\n",
       "    <tr>\n",
       "      <th>21</th>\n",
       "      <td>Prof-specialty</td>\n",
       "      <td>&gt;50K</td>\n",
       "      <td>44.90</td>\n",
       "    </tr>\n",
       "    <tr>\n",
       "      <th>23</th>\n",
       "      <td>Protective-serv</td>\n",
       "      <td>&gt;50K</td>\n",
       "      <td>32.51</td>\n",
       "    </tr>\n",
       "    <tr>\n",
       "      <th>25</th>\n",
       "      <td>Sales</td>\n",
       "      <td>&gt;50K</td>\n",
       "      <td>26.93</td>\n",
       "    </tr>\n",
       "    <tr>\n",
       "      <th>27</th>\n",
       "      <td>Tech-support</td>\n",
       "      <td>&gt;50K</td>\n",
       "      <td>30.50</td>\n",
       "    </tr>\n",
       "    <tr>\n",
       "      <th>29</th>\n",
       "      <td>Transport-moving</td>\n",
       "      <td>&gt;50K</td>\n",
       "      <td>20.04</td>\n",
       "    </tr>\n",
       "  </tbody>\n",
       "</table>\n",
       "</div>"
      ],
      "text/plain": [
       "           occupation  wage  count\n",
       "1                   ?  >50K  10.36\n",
       "3        Adm-clerical  >50K  13.45\n",
       "5        Armed-Forces  >50K  11.11\n",
       "7        Craft-repair  >50K  22.66\n",
       "9     Exec-managerial  >50K  48.40\n",
       "11    Farming-fishing  >50K  11.57\n",
       "13  Handlers-cleaners  >50K   6.28\n",
       "15  Machine-op-inspct  >50K  12.49\n",
       "17      Other-service  >50K   4.16\n",
       "19    Priv-house-serv  >50K   0.67\n",
       "21     Prof-specialty  >50K  44.90\n",
       "23    Protective-serv  >50K  32.51\n",
       "25              Sales  >50K  26.93\n",
       "27       Tech-support  >50K  30.50\n",
       "29   Transport-moving  >50K  20.04"
      ]
     },
     "execution_count": 24,
     "metadata": {},
     "output_type": "execute_result"
    }
   ],
   "source": [
    "# Group by work class\n",
    "groupby_occupation = pd.DataFrame(df.groupby('occupation')['wage'].value_counts(normalize=True).mul(100).round(2))\n",
    "groupby_occupation.columns = ['count']\n",
    "groupby_occupation.reset_index(inplace=True)\n",
    "print('#vars:', df['occupation'].nunique())\n",
    "groupby_occupation[groupby_occupation['wage']=='>50K']"
   ]
  },
  {
   "cell_type": "code",
   "execution_count": 25,
   "id": "9da39d54-08d6-42a4-a898-e4781fc111ef",
   "metadata": {},
   "outputs": [
    {
     "data": {
      "text/plain": [
       "group_occupation  occupation       \n",
       "g1                Prof-specialty       4140\n",
       "                  Exec-managerial      4066\n",
       "g2                Craft-repair         4099\n",
       "                  Adm-clerical         3770\n",
       "                  Sales                3650\n",
       "                  Other-service        3295\n",
       "                  Machine-op-inspct    2002\n",
       "                  ?                    1843\n",
       "                  Transport-moving     1597\n",
       "                  Handlers-cleaners    1370\n",
       "                  Farming-fishing       994\n",
       "                  Tech-support          928\n",
       "                  Protective-serv       649\n",
       "                  Priv-house-serv       149\n",
       "                  Armed-Forces            9\n",
       "Name: occupation, dtype: int64"
      ]
     },
     "execution_count": 25,
     "metadata": {},
     "output_type": "execute_result"
    }
   ],
   "source": [
    "# Can be devided into 2 groups\n",
    "# 1. wage >50k count >= 40%\n",
    "occ_group1 = list(groupby_occupation[groupby_occupation['wage']=='>50K']\\\n",
    "              [groupby_occupation[groupby_occupation['wage']=='>50K']['count'] > 40]['occupation'])\n",
    "\n",
    "# 2. the rest\n",
    "\n",
    "# Binize group\n",
    "def group_occupation(label):\n",
    "    if label in occ_group1:\n",
    "        return 'g1'\n",
    "    else:\n",
    "        return 'g2'\n",
    "    \n",
    "# Apply function   \n",
    "df['group_occupation'] = df['occupation'].apply(group_occupation)\n",
    "\n",
    "# Validate groupby\n",
    "df.groupby(['group_occupation'])['occupation'].value_counts()"
   ]
  },
  {
   "cell_type": "markdown",
   "id": "1e1eb5f4-7b3f-4e4e-87d5-9e28d00a402f",
   "metadata": {},
   "source": [
    "### relationship"
   ]
  },
  {
   "cell_type": "code",
   "execution_count": 26,
   "id": "8a9c3f3b-b011-46f4-901f-86c260131f7b",
   "metadata": {},
   "outputs": [
    {
     "name": "stdout",
     "output_type": "stream",
     "text": [
      "#vars: 6\n"
     ]
    },
    {
     "data": {
      "text/html": [
       "<div>\n",
       "<style scoped>\n",
       "    .dataframe tbody tr th:only-of-type {\n",
       "        vertical-align: middle;\n",
       "    }\n",
       "\n",
       "    .dataframe tbody tr th {\n",
       "        vertical-align: top;\n",
       "    }\n",
       "\n",
       "    .dataframe thead th {\n",
       "        text-align: right;\n",
       "    }\n",
       "</style>\n",
       "<table border=\"1\" class=\"dataframe\">\n",
       "  <thead>\n",
       "    <tr style=\"text-align: right;\">\n",
       "      <th></th>\n",
       "      <th>relationship</th>\n",
       "      <th>wage</th>\n",
       "      <th>count</th>\n",
       "    </tr>\n",
       "  </thead>\n",
       "  <tbody>\n",
       "    <tr>\n",
       "      <th>1</th>\n",
       "      <td>Husband</td>\n",
       "      <td>&gt;50K</td>\n",
       "      <td>44.86</td>\n",
       "    </tr>\n",
       "    <tr>\n",
       "      <th>3</th>\n",
       "      <td>Not-in-family</td>\n",
       "      <td>&gt;50K</td>\n",
       "      <td>10.31</td>\n",
       "    </tr>\n",
       "    <tr>\n",
       "      <th>5</th>\n",
       "      <td>Other-relative</td>\n",
       "      <td>&gt;50K</td>\n",
       "      <td>3.77</td>\n",
       "    </tr>\n",
       "    <tr>\n",
       "      <th>7</th>\n",
       "      <td>Own-child</td>\n",
       "      <td>&gt;50K</td>\n",
       "      <td>1.32</td>\n",
       "    </tr>\n",
       "    <tr>\n",
       "      <th>9</th>\n",
       "      <td>Unmarried</td>\n",
       "      <td>&gt;50K</td>\n",
       "      <td>6.33</td>\n",
       "    </tr>\n",
       "    <tr>\n",
       "      <th>11</th>\n",
       "      <td>Wife</td>\n",
       "      <td>&gt;50K</td>\n",
       "      <td>47.51</td>\n",
       "    </tr>\n",
       "  </tbody>\n",
       "</table>\n",
       "</div>"
      ],
      "text/plain": [
       "      relationship  wage  count\n",
       "1          Husband  >50K  44.86\n",
       "3    Not-in-family  >50K  10.31\n",
       "5   Other-relative  >50K   3.77\n",
       "7        Own-child  >50K   1.32\n",
       "9        Unmarried  >50K   6.33\n",
       "11            Wife  >50K  47.51"
      ]
     },
     "execution_count": 26,
     "metadata": {},
     "output_type": "execute_result"
    }
   ],
   "source": [
    "# Group by work class\n",
    "groupby_relationship = pd.DataFrame(df.groupby('relationship')['wage'].value_counts(normalize=True).mul(100).round(2))\n",
    "groupby_relationship.columns = ['count']\n",
    "groupby_relationship.reset_index(inplace=True)\n",
    "print('#vars:', df['relationship'].nunique())\n",
    "groupby_relationship[groupby_relationship['wage']=='>50K']"
   ]
  },
  {
   "cell_type": "code",
   "execution_count": 27,
   "id": "82f9b64c-f914-4504-8c9e-4567120c62b9",
   "metadata": {},
   "outputs": [
    {
     "data": {
      "text/plain": [
       "group_relationship  relationship  \n",
       "g1                  Husband           13193\n",
       "                    Wife               1568\n",
       "g2                  Not-in-family      8305\n",
       "                    Own-child          5068\n",
       "                    Unmarried          3446\n",
       "                    Other-relative      981\n",
       "Name: relationship, dtype: int64"
      ]
     },
     "execution_count": 27,
     "metadata": {},
     "output_type": "execute_result"
    }
   ],
   "source": [
    "# Can be devided into 2 groups\n",
    "# 1. wage >50k count >= 40%\n",
    "rela_group1 = list(groupby_relationship[groupby_relationship['wage']=='>50K']\\\n",
    "              [groupby_relationship[groupby_relationship['wage']=='>50K']['count'] > 40]['relationship'])\n",
    "\n",
    "# 2. the rest\n",
    "\n",
    "# Binize group\n",
    "def group_relationship(label):\n",
    "    if label in rela_group1:\n",
    "        return 'g1'\n",
    "    else:\n",
    "        return 'g2'\n",
    "    \n",
    "# Apply function   \n",
    "df['group_relationship'] = df['relationship'].apply(group_relationship)\n",
    "\n",
    "# Validate groupby\n",
    "df.groupby(['group_relationship'])['relationship'].value_counts()"
   ]
  },
  {
   "cell_type": "markdown",
   "id": "0f41162d-ab06-41a8-bd9b-f76b7284f01a",
   "metadata": {},
   "source": [
    "### native-country\t"
   ]
  },
  {
   "cell_type": "code",
   "execution_count": 28,
   "id": "f53b2edb-1bfe-4806-a5cd-012ae220e822",
   "metadata": {},
   "outputs": [
    {
     "name": "stdout",
     "output_type": "stream",
     "text": [
      "#vars: 42\n"
     ]
    },
    {
     "data": {
      "text/html": [
       "<div>\n",
       "<style scoped>\n",
       "    .dataframe tbody tr th:only-of-type {\n",
       "        vertical-align: middle;\n",
       "    }\n",
       "\n",
       "    .dataframe tbody tr th {\n",
       "        vertical-align: top;\n",
       "    }\n",
       "\n",
       "    .dataframe thead th {\n",
       "        text-align: right;\n",
       "    }\n",
       "</style>\n",
       "<table border=\"1\" class=\"dataframe\">\n",
       "  <thead>\n",
       "    <tr style=\"text-align: right;\">\n",
       "      <th></th>\n",
       "      <th>native-country</th>\n",
       "      <th>wage</th>\n",
       "      <th>count</th>\n",
       "    </tr>\n",
       "  </thead>\n",
       "  <tbody>\n",
       "    <tr>\n",
       "      <th>1</th>\n",
       "      <td>?</td>\n",
       "      <td>&gt;50K</td>\n",
       "      <td>25.04</td>\n",
       "    </tr>\n",
       "    <tr>\n",
       "      <th>3</th>\n",
       "      <td>Cambodia</td>\n",
       "      <td>&gt;50K</td>\n",
       "      <td>36.84</td>\n",
       "    </tr>\n",
       "    <tr>\n",
       "      <th>5</th>\n",
       "      <td>Canada</td>\n",
       "      <td>&gt;50K</td>\n",
       "      <td>32.23</td>\n",
       "    </tr>\n",
       "    <tr>\n",
       "      <th>7</th>\n",
       "      <td>China</td>\n",
       "      <td>&gt;50K</td>\n",
       "      <td>26.67</td>\n",
       "    </tr>\n",
       "    <tr>\n",
       "      <th>9</th>\n",
       "      <td>Columbia</td>\n",
       "      <td>&gt;50K</td>\n",
       "      <td>3.39</td>\n",
       "    </tr>\n",
       "    <tr>\n",
       "      <th>11</th>\n",
       "      <td>Cuba</td>\n",
       "      <td>&gt;50K</td>\n",
       "      <td>26.32</td>\n",
       "    </tr>\n",
       "    <tr>\n",
       "      <th>13</th>\n",
       "      <td>Dominican-Republic</td>\n",
       "      <td>&gt;50K</td>\n",
       "      <td>2.86</td>\n",
       "    </tr>\n",
       "    <tr>\n",
       "      <th>15</th>\n",
       "      <td>Ecuador</td>\n",
       "      <td>&gt;50K</td>\n",
       "      <td>14.29</td>\n",
       "    </tr>\n",
       "    <tr>\n",
       "      <th>17</th>\n",
       "      <td>El-Salvador</td>\n",
       "      <td>&gt;50K</td>\n",
       "      <td>8.49</td>\n",
       "    </tr>\n",
       "    <tr>\n",
       "      <th>19</th>\n",
       "      <td>England</td>\n",
       "      <td>&gt;50K</td>\n",
       "      <td>33.33</td>\n",
       "    </tr>\n",
       "    <tr>\n",
       "      <th>21</th>\n",
       "      <td>France</td>\n",
       "      <td>&gt;50K</td>\n",
       "      <td>41.38</td>\n",
       "    </tr>\n",
       "    <tr>\n",
       "      <th>23</th>\n",
       "      <td>Germany</td>\n",
       "      <td>&gt;50K</td>\n",
       "      <td>32.12</td>\n",
       "    </tr>\n",
       "    <tr>\n",
       "      <th>25</th>\n",
       "      <td>Greece</td>\n",
       "      <td>&gt;50K</td>\n",
       "      <td>27.59</td>\n",
       "    </tr>\n",
       "    <tr>\n",
       "      <th>27</th>\n",
       "      <td>Guatemala</td>\n",
       "      <td>&gt;50K</td>\n",
       "      <td>4.69</td>\n",
       "    </tr>\n",
       "    <tr>\n",
       "      <th>29</th>\n",
       "      <td>Haiti</td>\n",
       "      <td>&gt;50K</td>\n",
       "      <td>9.09</td>\n",
       "    </tr>\n",
       "    <tr>\n",
       "      <th>32</th>\n",
       "      <td>Honduras</td>\n",
       "      <td>&gt;50K</td>\n",
       "      <td>7.69</td>\n",
       "    </tr>\n",
       "    <tr>\n",
       "      <th>34</th>\n",
       "      <td>Hong</td>\n",
       "      <td>&gt;50K</td>\n",
       "      <td>30.00</td>\n",
       "    </tr>\n",
       "    <tr>\n",
       "      <th>36</th>\n",
       "      <td>Hungary</td>\n",
       "      <td>&gt;50K</td>\n",
       "      <td>23.08</td>\n",
       "    </tr>\n",
       "    <tr>\n",
       "      <th>38</th>\n",
       "      <td>India</td>\n",
       "      <td>&gt;50K</td>\n",
       "      <td>40.00</td>\n",
       "    </tr>\n",
       "    <tr>\n",
       "      <th>40</th>\n",
       "      <td>Iran</td>\n",
       "      <td>&gt;50K</td>\n",
       "      <td>41.86</td>\n",
       "    </tr>\n",
       "    <tr>\n",
       "      <th>42</th>\n",
       "      <td>Ireland</td>\n",
       "      <td>&gt;50K</td>\n",
       "      <td>20.83</td>\n",
       "    </tr>\n",
       "    <tr>\n",
       "      <th>44</th>\n",
       "      <td>Italy</td>\n",
       "      <td>&gt;50K</td>\n",
       "      <td>34.25</td>\n",
       "    </tr>\n",
       "    <tr>\n",
       "      <th>46</th>\n",
       "      <td>Jamaica</td>\n",
       "      <td>&gt;50K</td>\n",
       "      <td>12.35</td>\n",
       "    </tr>\n",
       "    <tr>\n",
       "      <th>48</th>\n",
       "      <td>Japan</td>\n",
       "      <td>&gt;50K</td>\n",
       "      <td>38.71</td>\n",
       "    </tr>\n",
       "    <tr>\n",
       "      <th>50</th>\n",
       "      <td>Laos</td>\n",
       "      <td>&gt;50K</td>\n",
       "      <td>11.11</td>\n",
       "    </tr>\n",
       "    <tr>\n",
       "      <th>52</th>\n",
       "      <td>Mexico</td>\n",
       "      <td>&gt;50K</td>\n",
       "      <td>5.13</td>\n",
       "    </tr>\n",
       "    <tr>\n",
       "      <th>54</th>\n",
       "      <td>Nicaragua</td>\n",
       "      <td>&gt;50K</td>\n",
       "      <td>5.88</td>\n",
       "    </tr>\n",
       "    <tr>\n",
       "      <th>57</th>\n",
       "      <td>Peru</td>\n",
       "      <td>&gt;50K</td>\n",
       "      <td>6.45</td>\n",
       "    </tr>\n",
       "    <tr>\n",
       "      <th>59</th>\n",
       "      <td>Philippines</td>\n",
       "      <td>&gt;50K</td>\n",
       "      <td>30.81</td>\n",
       "    </tr>\n",
       "    <tr>\n",
       "      <th>61</th>\n",
       "      <td>Poland</td>\n",
       "      <td>&gt;50K</td>\n",
       "      <td>20.00</td>\n",
       "    </tr>\n",
       "    <tr>\n",
       "      <th>63</th>\n",
       "      <td>Portugal</td>\n",
       "      <td>&gt;50K</td>\n",
       "      <td>10.81</td>\n",
       "    </tr>\n",
       "    <tr>\n",
       "      <th>65</th>\n",
       "      <td>Puerto-Rico</td>\n",
       "      <td>&gt;50K</td>\n",
       "      <td>10.53</td>\n",
       "    </tr>\n",
       "    <tr>\n",
       "      <th>67</th>\n",
       "      <td>Scotland</td>\n",
       "      <td>&gt;50K</td>\n",
       "      <td>25.00</td>\n",
       "    </tr>\n",
       "    <tr>\n",
       "      <th>69</th>\n",
       "      <td>South</td>\n",
       "      <td>&gt;50K</td>\n",
       "      <td>20.00</td>\n",
       "    </tr>\n",
       "    <tr>\n",
       "      <th>71</th>\n",
       "      <td>Taiwan</td>\n",
       "      <td>&gt;50K</td>\n",
       "      <td>39.22</td>\n",
       "    </tr>\n",
       "    <tr>\n",
       "      <th>73</th>\n",
       "      <td>Thailand</td>\n",
       "      <td>&gt;50K</td>\n",
       "      <td>16.67</td>\n",
       "    </tr>\n",
       "    <tr>\n",
       "      <th>75</th>\n",
       "      <td>Trinadad&amp;Tobago</td>\n",
       "      <td>&gt;50K</td>\n",
       "      <td>10.53</td>\n",
       "    </tr>\n",
       "    <tr>\n",
       "      <th>77</th>\n",
       "      <td>United-States</td>\n",
       "      <td>&gt;50K</td>\n",
       "      <td>24.58</td>\n",
       "    </tr>\n",
       "    <tr>\n",
       "      <th>79</th>\n",
       "      <td>Vietnam</td>\n",
       "      <td>&gt;50K</td>\n",
       "      <td>7.46</td>\n",
       "    </tr>\n",
       "    <tr>\n",
       "      <th>81</th>\n",
       "      <td>Yugoslavia</td>\n",
       "      <td>&gt;50K</td>\n",
       "      <td>37.50</td>\n",
       "    </tr>\n",
       "  </tbody>\n",
       "</table>\n",
       "</div>"
      ],
      "text/plain": [
       "        native-country  wage  count\n",
       "1                    ?  >50K  25.04\n",
       "3             Cambodia  >50K  36.84\n",
       "5               Canada  >50K  32.23\n",
       "7                China  >50K  26.67\n",
       "9             Columbia  >50K   3.39\n",
       "11                Cuba  >50K  26.32\n",
       "13  Dominican-Republic  >50K   2.86\n",
       "15             Ecuador  >50K  14.29\n",
       "17         El-Salvador  >50K   8.49\n",
       "19             England  >50K  33.33\n",
       "21              France  >50K  41.38\n",
       "23             Germany  >50K  32.12\n",
       "25              Greece  >50K  27.59\n",
       "27           Guatemala  >50K   4.69\n",
       "29               Haiti  >50K   9.09\n",
       "32            Honduras  >50K   7.69\n",
       "34                Hong  >50K  30.00\n",
       "36             Hungary  >50K  23.08\n",
       "38               India  >50K  40.00\n",
       "40                Iran  >50K  41.86\n",
       "42             Ireland  >50K  20.83\n",
       "44               Italy  >50K  34.25\n",
       "46             Jamaica  >50K  12.35\n",
       "48               Japan  >50K  38.71\n",
       "50                Laos  >50K  11.11\n",
       "52              Mexico  >50K   5.13\n",
       "54           Nicaragua  >50K   5.88\n",
       "57                Peru  >50K   6.45\n",
       "59         Philippines  >50K  30.81\n",
       "61              Poland  >50K  20.00\n",
       "63            Portugal  >50K  10.81\n",
       "65         Puerto-Rico  >50K  10.53\n",
       "67            Scotland  >50K  25.00\n",
       "69               South  >50K  20.00\n",
       "71              Taiwan  >50K  39.22\n",
       "73            Thailand  >50K  16.67\n",
       "75     Trinadad&Tobago  >50K  10.53\n",
       "77       United-States  >50K  24.58\n",
       "79             Vietnam  >50K   7.46\n",
       "81          Yugoslavia  >50K  37.50"
      ]
     },
     "execution_count": 28,
     "metadata": {},
     "output_type": "execute_result"
    }
   ],
   "source": [
    "# Group by work class\n",
    "groupby_country = pd.DataFrame(df.groupby('native-country')['wage'].value_counts(normalize=True).mul(100).round(2))\n",
    "groupby_country.columns = ['count']\n",
    "groupby_country.reset_index(inplace=True)\n",
    "print('#vars:', df['native-country'].nunique())\n",
    "groupby_country[groupby_country['wage']=='>50K']"
   ]
  },
  {
   "cell_type": "code",
   "execution_count": 29,
   "id": "c3b6b227-3f42-4c4a-a339-66b7eafd8e5d",
   "metadata": {},
   "outputs": [
    {
     "data": {
      "text/plain": [
       "group_country  native-country            \n",
       "g1             Philippines                     198\n",
       "               Germany                         137\n",
       "               Canada                          121\n",
       "               India                           100\n",
       "               England                          90\n",
       "               Italy                            73\n",
       "               Japan                            62\n",
       "               Taiwan                           51\n",
       "               Iran                             43\n",
       "               France                           29\n",
       "               Cambodia                         19\n",
       "               Yugoslavia                       16\n",
       "g2             United-States                 29170\n",
       "               Mexico                          643\n",
       "               ?                               583\n",
       "               Puerto-Rico                     114\n",
       "               El-Salvador                     106\n",
       "               Cuba                             95\n",
       "               Jamaica                          81\n",
       "               South                            80\n",
       "               China                            75\n",
       "               Dominican-Republic               70\n",
       "               Vietnam                          67\n",
       "               Guatemala                        64\n",
       "               Poland                           60\n",
       "               Columbia                         59\n",
       "               Haiti                            44\n",
       "               Portugal                         37\n",
       "               Nicaragua                        34\n",
       "               Peru                             31\n",
       "               Greece                           29\n",
       "               Ecuador                          28\n",
       "               Ireland                          24\n",
       "               Hong                             20\n",
       "               Trinadad&Tobago                  19\n",
       "               Laos                             18\n",
       "               Thailand                         18\n",
       "               Outlying-US(Guam-USVI-etc)       14\n",
       "               Honduras                         13\n",
       "               Hungary                          13\n",
       "               Scotland                         12\n",
       "               Holand-Netherlands                1\n",
       "Name: native-country, dtype: int64"
      ]
     },
     "execution_count": 29,
     "metadata": {},
     "output_type": "execute_result"
    }
   ],
   "source": [
    "# Can be devided into 2 groups\n",
    "# 1. wage >50k count >= 30%\n",
    "country_group1 = list(groupby_country[groupby_country['wage']=='>50K']\\\n",
    "              [groupby_country[groupby_country['wage']=='>50K']['count'] > 30]['native-country'])\n",
    "\n",
    "# 2. the rest\n",
    "\n",
    "# Binize group\n",
    "def group_country(label):\n",
    "    if label in country_group1:\n",
    "        return 'g1'\n",
    "    else:\n",
    "        return 'g2'\n",
    "    \n",
    "# Apply function   \n",
    "df['group_country'] = df['native-country'].apply(group_country)\n",
    "\n",
    "# Validate groupby\n",
    "df.groupby(['group_country'])['native-country'].value_counts()"
   ]
  },
  {
   "cell_type": "markdown",
   "id": "16579b35-760a-4bd6-b1d8-4aac63d5c67e",
   "metadata": {},
   "source": [
    "# Modeling"
   ]
  },
  {
   "cell_type": "markdown",
   "id": "4f63fe47-08d8-4d7c-b55a-1b7004705d04",
   "metadata": {},
   "source": [
    "## Set X, y"
   ]
  },
  {
   "cell_type": "code",
   "execution_count": 30,
   "id": "650f66c8-6278-4453-bbd6-ef9a0aec89df",
   "metadata": {},
   "outputs": [],
   "source": [
    "# Spilt X, y\n",
    "features = ['age', 'workclass', 'fnlwgt', 'education', 'education-num',\n",
    "       'marital-status', 'occupation', 'relationship', 'sex', 'capital-gain',\n",
    "       'capital-loss', 'hours-per-week', 'native-country']\n",
    "X = df[features]\n",
    "X = pd.get_dummies(X, drop_first=True)\n",
    "y = (df['wage'] == '>50K').astype(int)\n",
    "\n",
    "# Split train test sets\n",
    "X_train, X_test, y_train, y_test = train_test_split(X, y, stratify=y, random_state=42)"
   ]
  },
  {
   "cell_type": "code",
   "execution_count": 31,
   "id": "e9c0f84d-9fd9-4a62-8243-f818651f9a04",
   "metadata": {},
   "outputs": [
    {
     "data": {
      "text/plain": [
       "((24420, 96), (8141, 96), (24420,), (8141,))"
      ]
     },
     "execution_count": 31,
     "metadata": {},
     "output_type": "execute_result"
    }
   ],
   "source": [
    "# Check split shape\n",
    "X_train.shape, X_test.shape, y_train.shape, y_test.shape"
   ]
  },
  {
   "cell_type": "code",
   "execution_count": 32,
   "id": "3c12cf91-80ea-470b-b0b8-18f08fce42bb",
   "metadata": {},
   "outputs": [
    {
     "name": "stdout",
     "output_type": "stream",
     "text": [
      "0    75.92\n",
      "1    24.08\n",
      "Name: wage, dtype: float64\n"
     ]
    }
   ],
   "source": [
    "# Check split class balance\n",
    "print(y_train.value_counts(normalize=True).mul(100).round(2))"
   ]
  },
  {
   "cell_type": "code",
   "execution_count": 33,
   "id": "1b1de65b-161e-48c5-afd4-3a1f3005a69e",
   "metadata": {},
   "outputs": [
    {
     "name": "stdout",
     "output_type": "stream",
     "text": [
      "0    75.92\n",
      "1    24.08\n",
      "Name: wage, dtype: float64\n"
     ]
    }
   ],
   "source": [
    "print(y_test.value_counts(normalize=True).mul(100).round(2))"
   ]
  },
  {
   "cell_type": "markdown",
   "id": "3b966892-7d86-47d3-a9df-983e47293f9f",
   "metadata": {},
   "source": [
    "## Baseline scores"
   ]
  },
  {
   "cell_type": "code",
   "execution_count": 34,
   "id": "09978914-f239-400c-9610-710b275e3e4c",
   "metadata": {},
   "outputs": [
    {
     "data": {
      "text/plain": [
       "<=50K    75.92\n",
       ">50K     24.08\n",
       "Name: wage, dtype: float64"
      ]
     },
     "execution_count": 34,
     "metadata": {},
     "output_type": "execute_result"
    }
   ],
   "source": [
    "df['wage'].value_counts(normalize=True).mul(100).round(2)"
   ]
  },
  {
   "cell_type": "markdown",
   "id": "72a0a3ad-6d2a-4484-99d9-7df871b25cf9",
   "metadata": {},
   "source": [
    "## Randomforest"
   ]
  },
  {
   "cell_type": "markdown",
   "id": "08b5b354-95e9-4469-a8d5-99cb203ebe02",
   "metadata": {},
   "source": [
    "### First model"
   ]
  },
  {
   "cell_type": "code",
   "execution_count": 35,
   "id": "1676bdf9-37f6-4cc0-9b00-c325f7d1fa98",
   "metadata": {},
   "outputs": [
    {
     "data": {
      "text/html": [
       "<style>#sk-container-id-1 {color: black;background-color: white;}#sk-container-id-1 pre{padding: 0;}#sk-container-id-1 div.sk-toggleable {background-color: white;}#sk-container-id-1 label.sk-toggleable__label {cursor: pointer;display: block;width: 100%;margin-bottom: 0;padding: 0.3em;box-sizing: border-box;text-align: center;}#sk-container-id-1 label.sk-toggleable__label-arrow:before {content: \"▸\";float: left;margin-right: 0.25em;color: #696969;}#sk-container-id-1 label.sk-toggleable__label-arrow:hover:before {color: black;}#sk-container-id-1 div.sk-estimator:hover label.sk-toggleable__label-arrow:before {color: black;}#sk-container-id-1 div.sk-toggleable__content {max-height: 0;max-width: 0;overflow: hidden;text-align: left;background-color: #f0f8ff;}#sk-container-id-1 div.sk-toggleable__content pre {margin: 0.2em;color: black;border-radius: 0.25em;background-color: #f0f8ff;}#sk-container-id-1 input.sk-toggleable__control:checked~div.sk-toggleable__content {max-height: 200px;max-width: 100%;overflow: auto;}#sk-container-id-1 input.sk-toggleable__control:checked~label.sk-toggleable__label-arrow:before {content: \"▾\";}#sk-container-id-1 div.sk-estimator input.sk-toggleable__control:checked~label.sk-toggleable__label {background-color: #d4ebff;}#sk-container-id-1 div.sk-label input.sk-toggleable__control:checked~label.sk-toggleable__label {background-color: #d4ebff;}#sk-container-id-1 input.sk-hidden--visually {border: 0;clip: rect(1px 1px 1px 1px);clip: rect(1px, 1px, 1px, 1px);height: 1px;margin: -1px;overflow: hidden;padding: 0;position: absolute;width: 1px;}#sk-container-id-1 div.sk-estimator {font-family: monospace;background-color: #f0f8ff;border: 1px dotted black;border-radius: 0.25em;box-sizing: border-box;margin-bottom: 0.5em;}#sk-container-id-1 div.sk-estimator:hover {background-color: #d4ebff;}#sk-container-id-1 div.sk-parallel-item::after {content: \"\";width: 100%;border-bottom: 1px solid gray;flex-grow: 1;}#sk-container-id-1 div.sk-label:hover label.sk-toggleable__label {background-color: #d4ebff;}#sk-container-id-1 div.sk-serial::before {content: \"\";position: absolute;border-left: 1px solid gray;box-sizing: border-box;top: 0;bottom: 0;left: 50%;z-index: 0;}#sk-container-id-1 div.sk-serial {display: flex;flex-direction: column;align-items: center;background-color: white;padding-right: 0.2em;padding-left: 0.2em;position: relative;}#sk-container-id-1 div.sk-item {position: relative;z-index: 1;}#sk-container-id-1 div.sk-parallel {display: flex;align-items: stretch;justify-content: center;background-color: white;position: relative;}#sk-container-id-1 div.sk-item::before, #sk-container-id-1 div.sk-parallel-item::before {content: \"\";position: absolute;border-left: 1px solid gray;box-sizing: border-box;top: 0;bottom: 0;left: 50%;z-index: -1;}#sk-container-id-1 div.sk-parallel-item {display: flex;flex-direction: column;z-index: 1;position: relative;background-color: white;}#sk-container-id-1 div.sk-parallel-item:first-child::after {align-self: flex-end;width: 50%;}#sk-container-id-1 div.sk-parallel-item:last-child::after {align-self: flex-start;width: 50%;}#sk-container-id-1 div.sk-parallel-item:only-child::after {width: 0;}#sk-container-id-1 div.sk-dashed-wrapped {border: 1px dashed gray;margin: 0 0.4em 0.5em 0.4em;box-sizing: border-box;padding-bottom: 0.4em;background-color: white;}#sk-container-id-1 div.sk-label label {font-family: monospace;font-weight: bold;display: inline-block;line-height: 1.2em;}#sk-container-id-1 div.sk-label-container {text-align: center;}#sk-container-id-1 div.sk-container {/* jupyter's `normalize.less` sets `[hidden] { display: none; }` but bootstrap.min.css set `[hidden] { display: none !important; }` so we also need the `!important` here to be able to override the default hidden behavior on the sphinx rendered scikit-learn.org. See: https://github.com/scikit-learn/scikit-learn/issues/21755 */display: inline-block !important;position: relative;}#sk-container-id-1 div.sk-text-repr-fallback {display: none;}</style><div id=\"sk-container-id-1\" class=\"sk-top-container\"><div class=\"sk-text-repr-fallback\"><pre>RandomForestClassifier(random_state=42)</pre><b>In a Jupyter environment, please rerun this cell to show the HTML representation or trust the notebook. <br />On GitHub, the HTML representation is unable to render, please try loading this page with nbviewer.org.</b></div><div class=\"sk-container\" hidden><div class=\"sk-item\"><div class=\"sk-estimator sk-toggleable\"><input class=\"sk-toggleable__control sk-hidden--visually\" id=\"sk-estimator-id-1\" type=\"checkbox\" checked><label for=\"sk-estimator-id-1\" class=\"sk-toggleable__label sk-toggleable__label-arrow\">RandomForestClassifier</label><div class=\"sk-toggleable__content\"><pre>RandomForestClassifier(random_state=42)</pre></div></div></div></div></div>"
      ],
      "text/plain": [
       "RandomForestClassifier(random_state=42)"
      ]
     },
     "execution_count": 35,
     "metadata": {},
     "output_type": "execute_result"
    }
   ],
   "source": [
    "# Instantiate\n",
    "rfc = RandomForestClassifier(random_state=42)\n",
    "\n",
    "# Fit\n",
    "rfc.fit(X_train, y_train)"
   ]
  },
  {
   "cell_type": "code",
   "execution_count": 36,
   "id": "08bf1c94-ed43-4fed-9c76-99f0c7e85d49",
   "metadata": {},
   "outputs": [
    {
     "name": "stdout",
     "output_type": "stream",
     "text": [
      "train acc: 1.0\n",
      "test acc: 0.8573\n"
     ]
    }
   ],
   "source": [
    "# Evaluation\n",
    "# Acc score\n",
    "print('train acc:', rfc.score(X_train, y_train).round(4))\n",
    "print('test acc:', rfc.score(X_test, y_test).round(4))"
   ]
  },
  {
   "cell_type": "code",
   "execution_count": 37,
   "id": "74407b22-ee8e-4c0b-b37d-c0dcbc8f48fb",
   "metadata": {},
   "outputs": [
    {
     "name": "stdout",
     "output_type": "stream",
     "text": [
      "-------- random forest ----------\n",
      "train cv: [0.84602785 0.85687961 0.85339885 0.8458231  0.84848485]\n",
      "train cv: 0.8501228501228502\n",
      "test cv: [0.86126458 0.8544226  0.85810811 0.8531941  0.84275184]\n",
      "test cv: 0.8539482475946564\n"
     ]
    }
   ],
   "source": [
    "# cross val score for random forest\n",
    "print('-------- random forest ----------')\n",
    "print('train cv:', cross_val_score(rfc, X_train, y_train))\n",
    "print('train cv:', cross_val_score(rfc, X_train, y_train).mean())\n",
    "print('test cv:', cross_val_score(rfc, X_test, y_test))\n",
    "print('test cv:', cross_val_score(rfc, X_test, y_test).mean())"
   ]
  },
  {
   "cell_type": "code",
   "execution_count": 38,
   "id": "95dbeb90-e6d4-44ca-9140-5f3d1f7574bc",
   "metadata": {},
   "outputs": [
    {
     "name": "stdout",
     "output_type": "stream",
     "text": [
      "              precision    recall  f1-score   support\n",
      "\n",
      "           0       0.89      0.93      0.91      6181\n",
      "           1       0.73      0.64      0.68      1960\n",
      "\n",
      "    accuracy                           0.86      8141\n",
      "   macro avg       0.81      0.78      0.80      8141\n",
      "weighted avg       0.85      0.86      0.85      8141\n",
      "\n"
     ]
    }
   ],
   "source": [
    "# Print classification report\n",
    "\n",
    "# predict values for test set\n",
    "y_preds = rfc.predict(X_test)\n",
    "\n",
    "print(metrics.classification_report(y_test, y_preds))"
   ]
  },
  {
   "cell_type": "markdown",
   "id": "89916e2c-86a4-4f64-b5fe-b0c666ab0299",
   "metadata": {},
   "source": [
    "### Binize Category Trail"
   ]
  },
  {
   "cell_type": "markdown",
   "id": "79201d16-13ea-472c-a454-85b67275ac99",
   "metadata": {},
   "source": [
    "#### workclass"
   ]
  },
  {
   "cell_type": "code",
   "execution_count": 39,
   "id": "17a7cf36-795d-4828-9610-76bf35f4faeb",
   "metadata": {},
   "outputs": [
    {
     "name": "stdout",
     "output_type": "stream",
     "text": [
      "train acc: 0.9999\n",
      "test acc: 0.8527\n",
      "              precision    recall  f1-score   support\n",
      "\n",
      "           0       0.89      0.92      0.90      6181\n",
      "           1       0.72      0.64      0.68      1960\n",
      "\n",
      "    accuracy                           0.85      8141\n",
      "   macro avg       0.80      0.78      0.79      8141\n",
      "weighted avg       0.85      0.85      0.85      8141\n",
      "\n"
     ]
    }
   ],
   "source": [
    "# Spilt X, y\n",
    "features = ['age', 'group_workclass', 'fnlwgt', 'education', 'education-num',\n",
    "       'marital-status', 'occupation', 'relationship', 'sex', 'capital-gain',\n",
    "       'capital-loss', 'hours-per-week', 'native-country']\n",
    "X = df[features]\n",
    "X = pd.get_dummies(X, drop_first=True)\n",
    "y = (df['wage'] == '>50K').astype(int)\n",
    "\n",
    "# Split train test sets\n",
    "X_train, X_test, y_train, y_test = train_test_split(X, y, stratify=y, random_state=42)\n",
    "\n",
    "# Instantiate\n",
    "rfc = RandomForestClassifier(random_state=42)\n",
    "\n",
    "# Fit\n",
    "rfc.fit(X_train, y_train)\n",
    "\n",
    "# Evaluation\n",
    "# Acc score\n",
    "print('train acc:', rfc.score(X_train, y_train).round(4))\n",
    "print('test acc:', rfc.score(X_test, y_test).round(4))\n",
    "\n",
    "# Print classification report\n",
    "\n",
    "# predict values for test set\n",
    "y_preds = rfc.predict(X_test)\n",
    "\n",
    "print(metrics.classification_report(y_test, y_preds))"
   ]
  },
  {
   "cell_type": "code",
   "execution_count": 40,
   "id": "add5822e-954d-4eaf-b106-d26945493365",
   "metadata": {},
   "outputs": [],
   "source": [
    "# Binize work group can not increase model score"
   ]
  },
  {
   "cell_type": "markdown",
   "id": "c9557052-1dd7-4079-b288-5f100146ba9d",
   "metadata": {},
   "source": [
    "#### education"
   ]
  },
  {
   "cell_type": "code",
   "execution_count": 41,
   "id": "bdd5e4df-5a13-4b4a-99ee-addd21e1c088",
   "metadata": {},
   "outputs": [
    {
     "name": "stdout",
     "output_type": "stream",
     "text": [
      "train acc: 0.9999\n",
      "test acc: 0.8575\n",
      "              precision    recall  f1-score   support\n",
      "\n",
      "           0       0.89      0.93      0.91      6181\n",
      "           1       0.73      0.64      0.68      1960\n",
      "\n",
      "    accuracy                           0.86      8141\n",
      "   macro avg       0.81      0.78      0.80      8141\n",
      "weighted avg       0.85      0.86      0.85      8141\n",
      "\n"
     ]
    }
   ],
   "source": [
    "# Spilt X, y\n",
    "features = ['age', 'workclass', 'fnlwgt', 'group_education', 'education-num',\n",
    "       'marital-status', 'occupation', 'relationship', 'sex', 'capital-gain',\n",
    "       'capital-loss', 'hours-per-week', 'native-country']\n",
    "X = df[features]\n",
    "X = pd.get_dummies(X, drop_first=True)\n",
    "y = (df['wage'] == '>50K').astype(int)\n",
    "\n",
    "# Split train test sets\n",
    "X_train, X_test, y_train, y_test = train_test_split(X, y, stratify=y, random_state=42)\n",
    "\n",
    "# Instantiate\n",
    "rfc = RandomForestClassifier(random_state=42)\n",
    "\n",
    "# Fit\n",
    "rfc.fit(X_train, y_train)\n",
    "\n",
    "# Evaluation\n",
    "# Acc score\n",
    "print('train acc:', rfc.score(X_train, y_train).round(4))\n",
    "print('test acc:', rfc.score(X_test, y_test).round(4))\n",
    "\n",
    "# Print classification report\n",
    "\n",
    "# predict values for test set\n",
    "y_preds = rfc.predict(X_test)\n",
    "\n",
    "print(metrics.classification_report(y_test, y_preds))"
   ]
  },
  {
   "cell_type": "markdown",
   "id": "ea3fec1f-d3c8-495f-b9c3-24ea4ee110d6",
   "metadata": {},
   "source": [
    "#### country"
   ]
  },
  {
   "cell_type": "code",
   "execution_count": 42,
   "id": "4bc7def0-2451-46da-b5ce-c10fb898fe44",
   "metadata": {},
   "outputs": [
    {
     "name": "stdout",
     "output_type": "stream",
     "text": [
      "train acc: 1.0\n",
      "test acc: 0.8578\n",
      "              precision    recall  f1-score   support\n",
      "\n",
      "           0       0.89      0.93      0.91      6181\n",
      "           1       0.74      0.64      0.68      1960\n",
      "\n",
      "    accuracy                           0.86      8141\n",
      "   macro avg       0.81      0.78      0.80      8141\n",
      "weighted avg       0.85      0.86      0.85      8141\n",
      "\n"
     ]
    }
   ],
   "source": [
    "# Spilt X, y\n",
    "features = ['age', 'workclass', 'fnlwgt', 'group_education', 'education-num',\n",
    "       'marital-status', 'occupation', 'relationship', 'sex', 'capital-gain',\n",
    "       'capital-loss', 'hours-per-week', 'group_country']\n",
    "X = df[features]\n",
    "X = pd.get_dummies(X, drop_first=True)\n",
    "y = (df['wage'] == '>50K').astype(int)\n",
    "\n",
    "# Split train test sets\n",
    "X_train, X_test, y_train, y_test = train_test_split(X, y, stratify=y, random_state=42)\n",
    "\n",
    "# Instantiate\n",
    "rfc = RandomForestClassifier(random_state=42)\n",
    "\n",
    "# Fit\n",
    "rfc.fit(X_train, y_train)\n",
    "\n",
    "# Evaluation\n",
    "# Acc score\n",
    "print('train acc:', rfc.score(X_train, y_train).round(4))\n",
    "print('test acc:', rfc.score(X_test, y_test).round(4))\n",
    "\n",
    "# Print classification report\n",
    "\n",
    "# predict values for test set\n",
    "y_preds = rfc.predict(X_test)\n",
    "\n",
    "print(metrics.classification_report(y_test, y_preds))"
   ]
  },
  {
   "cell_type": "code",
   "execution_count": 43,
   "id": "3f17301b-7c9b-46f8-a60b-e78a3db0f986",
   "metadata": {},
   "outputs": [
    {
     "name": "stdout",
     "output_type": "stream",
     "text": [
      "train acc: 0.8948\n",
      "test acc: 0.8688\n",
      "              precision    recall  f1-score   support\n",
      "\n",
      "           0       0.89      0.94      0.92      6181\n",
      "           1       0.78      0.64      0.70      1960\n",
      "\n",
      "    accuracy                           0.87      8141\n",
      "   macro avg       0.83      0.79      0.81      8141\n",
      "weighted avg       0.86      0.87      0.86      8141\n",
      "\n"
     ]
    }
   ],
   "source": [
    "# Spilt X, y\n",
    "features = ['age', 'workclass', 'fnlwgt', 'group_education', 'education-num',\n",
    "       'marital-status', 'occupation', 'relationship', 'sex', 'capital-gain',\n",
    "       'capital-loss', 'hours-per-week', 'group_country']\n",
    "X = df[features]\n",
    "X = pd.get_dummies(X, drop_first=True)\n",
    "y = (df['wage'] == '>50K').astype(int)\n",
    "\n",
    "# Split train test sets\n",
    "X_train, X_test, y_train, y_test = train_test_split(X, y, stratify=y, random_state=42)\n",
    "\n",
    "# Instantiate\n",
    "rfc = RandomForestClassifier(random_state=42,\n",
    "                            max_depth=40,\n",
    "                            min_samples_leaf=3,\n",
    "                            min_samples_split=12)\n",
    "\n",
    "# Fit\n",
    "rfc.fit(X_train, y_train)\n",
    "\n",
    "# Evaluation\n",
    "# Acc score\n",
    "print('train acc:', rfc.score(X_train, y_train).round(4))\n",
    "print('test acc:', rfc.score(X_test, y_test).round(4))\n",
    "\n",
    "# Print classification report\n",
    "\n",
    "# predict values for test set\n",
    "y_preds = rfc.predict(X_test)\n",
    "\n",
    "print(metrics.classification_report(y_test, y_preds))"
   ]
  },
  {
   "cell_type": "markdown",
   "id": "0ad025c8-f351-4e34-867e-ee270fbcd915",
   "metadata": {},
   "source": [
    "#### marital-status"
   ]
  },
  {
   "cell_type": "code",
   "execution_count": 44,
   "id": "f938e7b6-9934-4af8-9aa5-25c14bd819c4",
   "metadata": {},
   "outputs": [
    {
     "name": "stdout",
     "output_type": "stream",
     "text": [
      "train acc: 0.9999\n",
      "test acc: 0.8598\n",
      "              precision    recall  f1-score   support\n",
      "\n",
      "           0       0.89      0.93      0.91      6181\n",
      "           1       0.74      0.64      0.69      1960\n",
      "\n",
      "    accuracy                           0.86      8141\n",
      "   macro avg       0.82      0.78      0.80      8141\n",
      "weighted avg       0.85      0.86      0.86      8141\n",
      "\n"
     ]
    }
   ],
   "source": [
    "# Spilt X, y\n",
    "features = ['age', 'workclass', 'fnlwgt', 'group_education', 'education-num',\n",
    "       'group_marital-status', 'occupation', 'relationship', 'sex', 'capital-gain',\n",
    "       'capital-loss', 'hours-per-week', 'native-country']\n",
    "X = df[features]\n",
    "X = pd.get_dummies(X, drop_first=True)\n",
    "y = (df['wage'] == '>50K').astype(int)\n",
    "\n",
    "# Split train test sets\n",
    "X_train, X_test, y_train, y_test = train_test_split(X, y, stratify=y, random_state=42)\n",
    "\n",
    "# Instantiate\n",
    "rfc = RandomForestClassifier(random_state=42)\n",
    "\n",
    "# Fit\n",
    "rfc.fit(X_train, y_train)\n",
    "\n",
    "# Evaluation\n",
    "# Acc score\n",
    "print('train acc:', rfc.score(X_train, y_train).round(4))\n",
    "print('test acc:', rfc.score(X_test, y_test).round(4))\n",
    "\n",
    "# Marital-status gave higher score\n",
    "\n",
    "# Print classification report\n",
    "\n",
    "# predict values for test set\n",
    "y_preds = rfc.predict(X_test)\n",
    "\n",
    "print(metrics.classification_report(y_test, y_preds))"
   ]
  },
  {
   "cell_type": "code",
   "execution_count": 45,
   "id": "be071f61-6377-4023-8032-cf0b203e105f",
   "metadata": {},
   "outputs": [
    {
     "name": "stdout",
     "output_type": "stream",
     "text": [
      "train acc: 0.9923\n",
      "test acc: 0.8576\n",
      "              precision    recall  f1-score   support\n",
      "\n",
      "           0       0.89      0.93      0.91      6181\n",
      "           1       0.75      0.62      0.68      1960\n",
      "\n",
      "    accuracy                           0.86      8141\n",
      "   macro avg       0.82      0.78      0.79      8141\n",
      "weighted avg       0.85      0.86      0.85      8141\n",
      "\n"
     ]
    }
   ],
   "source": [
    "# Spilt X, y\n",
    "features = ['age', 'workclass', 'fnlwgt', 'group_education', 'education-num',\n",
    "       'group_marital-status', 'occupation', 'relationship', 'sex', 'capital-gain',\n",
    "       'capital-loss', 'hours-per-week', 'native-country']\n",
    "X = df[features]\n",
    "X = pd.get_dummies(X, drop_first=True)\n",
    "y = (df['wage'] == '>50K').astype(int)\n",
    "\n",
    "# Split train test sets\n",
    "X_train, X_test, y_train, y_test = train_test_split(X, y, stratify=y, random_state=42)\n",
    "\n",
    "# Instantiate\n",
    "rfc = RandomForestClassifier(random_state=42,max_depth=40,class_weight={0: 4.5, 1: 1})\n",
    "\n",
    "# Fit\n",
    "rfc.fit(X_train, y_train)\n",
    "\n",
    "# Evaluation\n",
    "# Acc score\n",
    "print('train acc:', rfc.score(X_train, y_train).round(4))\n",
    "print('test acc:', rfc.score(X_test, y_test).round(4))\n",
    "\n",
    "# Print classification report\n",
    "\n",
    "# predict values for test set\n",
    "y_preds = rfc.predict(X_test)\n",
    "\n",
    "print(metrics.classification_report(y_test, y_preds))"
   ]
  },
  {
   "cell_type": "markdown",
   "id": "35e5ddbc-fed1-4e1d-bc20-50f2ff67980d",
   "metadata": {},
   "source": [
    "#### occupation"
   ]
  },
  {
   "cell_type": "code",
   "execution_count": 46,
   "id": "9819e56e-92dc-4752-9e1f-e96d89731aaa",
   "metadata": {},
   "outputs": [
    {
     "name": "stdout",
     "output_type": "stream",
     "text": [
      "train acc: 0.9998\n",
      "test acc: 0.8521\n",
      "              precision    recall  f1-score   support\n",
      "\n",
      "           0       0.89      0.92      0.90      6181\n",
      "           1       0.72      0.63      0.67      1960\n",
      "\n",
      "    accuracy                           0.85      8141\n",
      "   macro avg       0.80      0.78      0.79      8141\n",
      "weighted avg       0.85      0.85      0.85      8141\n",
      "\n"
     ]
    }
   ],
   "source": [
    "# Spilt X, y\n",
    "features = ['age', 'workclass', 'fnlwgt', 'group_education', 'education-num',\n",
    "       'group_marital-status', 'group_occupation', 'relationship', 'sex', 'capital-gain',\n",
    "       'capital-loss', 'hours-per-week', 'native-country']\n",
    "X = df[features]\n",
    "X = pd.get_dummies(X, drop_first=True)\n",
    "y = (df['wage'] == '>50K').astype(int)\n",
    "\n",
    "# Split train test sets\n",
    "X_train, X_test, y_train, y_test = train_test_split(X, y, stratify=y, random_state=42)\n",
    "\n",
    "# Instantiate```\n",
    "rfc = RandomForestClassifier(random_state=42)\n",
    "\n",
    "# Fit\n",
    "rfc.fit(X_train, y_train)\n",
    "\n",
    "# Evaluation\n",
    "# Acc score\n",
    "print('train acc:', rfc.score(X_train, y_train).round(4))\n",
    "print('test acc:', rfc.score(X_test, y_test).round(4))\n",
    "\n",
    "# Print classification report\n",
    "\n",
    "# predict values for test set\n",
    "y_preds = rfc.predict(X_test)\n",
    "\n",
    "print(metrics.classification_report(y_test, y_preds))"
   ]
  },
  {
   "cell_type": "markdown",
   "id": "5029758b-c892-4cf3-b890-28aae72dc6ed",
   "metadata": {},
   "source": [
    "#### relationship"
   ]
  },
  {
   "cell_type": "code",
   "execution_count": 47,
   "id": "d50b9aab-a575-4964-a656-f49453b459f1",
   "metadata": {},
   "outputs": [
    {
     "name": "stdout",
     "output_type": "stream",
     "text": [
      "train acc: 0.9999\n",
      "test acc: 0.8586\n",
      "              precision    recall  f1-score   support\n",
      "\n",
      "           0       0.89      0.93      0.91      6181\n",
      "           1       0.74      0.64      0.68      1960\n",
      "\n",
      "    accuracy                           0.86      8141\n",
      "   macro avg       0.81      0.78      0.80      8141\n",
      "weighted avg       0.85      0.86      0.85      8141\n",
      "\n"
     ]
    }
   ],
   "source": [
    "# Spilt X, y\n",
    "features = ['age', 'workclass', 'fnlwgt', 'group_education', 'education-num',\n",
    "       'group_marital-status', 'occupation', 'group_relationship', 'sex', 'capital-gain',\n",
    "       'capital-loss', 'hours-per-week', 'native-country']\n",
    "X = df[features]\n",
    "X = pd.get_dummies(X, drop_first=True)\n",
    "y = (df['wage'] == '>50K').astype(int)\n",
    "\n",
    "# Split train test sets\n",
    "X_train, X_test, y_train, y_test = train_test_split(X, y, stratify=y, random_state=42)\n",
    "\n",
    "# Instantiate```\n",
    "rfc = RandomForestClassifier(random_state=42)\n",
    "\n",
    "# Fit\n",
    "rfc.fit(X_train, y_train)\n",
    "\n",
    "# Evaluation\n",
    "# Acc score\n",
    "print('train acc:', rfc.score(X_train, y_train).round(4))\n",
    "print('test acc:', rfc.score(X_test, y_test).round(4))\n",
    "\n",
    "# Occupation gave lower score\n",
    "# Print classification report\n",
    "\n",
    "# predict values for test set\n",
    "y_preds = rfc.predict(X_test)\n",
    "\n",
    "print(metrics.classification_report(y_test, y_preds))"
   ]
  },
  {
   "cell_type": "code",
   "execution_count": 48,
   "id": "78a97cf8-6000-4385-8ede-ce14877ab378",
   "metadata": {},
   "outputs": [],
   "source": [
    "# In summary, Only one useful binize is matial-status"
   ]
  },
  {
   "cell_type": "markdown",
   "id": "e96ca927-c280-4ac6-b157-e0e10ed78394",
   "metadata": {},
   "source": [
    "## Final Model"
   ]
  },
  {
   "cell_type": "markdown",
   "id": "34f2af99-329e-4a75-bcd6-53b02fee02e2",
   "metadata": {},
   "source": [
    "### Apply gridsearch"
   ]
  },
  {
   "cell_type": "code",
   "execution_count": 49,
   "id": "9116ed96-0673-4892-b3ba-0660405b38de",
   "metadata": {},
   "outputs": [],
   "source": [
    "# Group for education and country"
   ]
  },
  {
   "cell_type": "code",
   "execution_count": 50,
   "id": "b7f2a5e8-ef99-4131-8d8c-26bd475d90ca",
   "metadata": {},
   "outputs": [
    {
     "name": "stdout",
     "output_type": "stream",
     "text": [
      "train acc: 0.8948\n",
      "test acc: 0.8688\n",
      "              precision    recall  f1-score   support\n",
      "\n",
      "           0       0.89      0.94      0.92      6181\n",
      "           1       0.78      0.64      0.70      1960\n",
      "\n",
      "    accuracy                           0.87      8141\n",
      "   macro avg       0.83      0.79      0.81      8141\n",
      "weighted avg       0.86      0.87      0.86      8141\n",
      "\n"
     ]
    },
    {
     "data": {
      "image/png": "[encoded data removed]",
      "text/plain": [
       "<Figure size 432x288 with 2 Axes>"
      ]
     },
     "metadata": {
      "needs_background": "light"
     },
     "output_type": "display_data"
    }
   ],
   "source": [
    "# Spilt X, y\n",
    "features = ['age', 'workclass', 'fnlwgt', 'group_education', 'education-num',\n",
    "       'marital-status', 'occupation', 'relationship', 'sex', 'capital-gain',\n",
    "       'capital-loss', 'hours-per-week', 'group_country']\n",
    "X = df[features]\n",
    "X = pd.get_dummies(X, drop_first=True)\n",
    "y = (df['wage'] == '>50K').astype(int)\n",
    "\n",
    "# Split train test sets\n",
    "X_train, X_test, y_train, y_test = train_test_split(X, y, stratify=y, random_state=42)\n",
    "\n",
    "# Instantiate\n",
    "rfc = RandomForestClassifier(random_state=42,\n",
    "                            max_depth=40,\n",
    "                            min_samples_leaf=3,\n",
    "                            min_samples_split=12,\n",
    "                            n_estimators=100)\n",
    "\n",
    "# Fit\n",
    "rfc.fit(X_train, y_train)\n",
    "\n",
    "# Evaluation\n",
    "# Acc score\n",
    "print('train acc:', rfc.score(X_train, y_train).round(4))\n",
    "print('test acc:', rfc.score(X_test, y_test).round(4))\n",
    "\n",
    "# Print classification report\n",
    "\n",
    "# predict values for test set\n",
    "y_preds = rfc.predict(X_test)\n",
    "\n",
    "print(metrics.classification_report(y_test, y_preds))\n",
    "\n",
    "cm = metrics.confusion_matrix(y_test, y_preds)\n",
    "tn, fp, fn, tp = cm.ravel()\n",
    "metrics.ConfusionMatrixDisplay(confusion_matrix=cm).plot();"
   ]
  },
  {
   "cell_type": "markdown",
   "id": "4cb870c1-584c-45cf-bf2b-d6eef0a81091",
   "metadata": {},
   "source": [
    "### Train all data"
   ]
  },
  {
   "cell_type": "code",
   "execution_count": 51,
   "id": "c216f86b-f686-47ac-901e-85517805d106",
   "metadata": {},
   "outputs": [
    {
     "name": "stdout",
     "output_type": "stream",
     "text": [
      "train acc: 0.8951\n",
      "              precision    recall  f1-score   support\n",
      "\n",
      "           0       0.91      0.96      0.93     24720\n",
      "           1       0.85      0.69      0.76      7841\n",
      "\n",
      "    accuracy                           0.90     32561\n",
      "   macro avg       0.88      0.82      0.85     32561\n",
      "weighted avg       0.89      0.90      0.89     32561\n",
      "\n"
     ]
    }
   ],
   "source": [
    "# Spilt X, y\n",
    "features = ['age', 'workclass', 'fnlwgt', 'group_education', 'education-num',\n",
    "       'marital-status', 'occupation', 'relationship', 'sex', 'capital-gain',\n",
    "       'capital-loss', 'hours-per-week', 'group_country']\n",
    "X = df[features]\n",
    "X = pd.get_dummies(X, drop_first=True)\n",
    "y = (df['wage'] == '>50K').astype(int)\n",
    "\n",
    "# Split train test sets\n",
    "# X_train, X_test, y_train, y_test = train_test_split(X, y, stratify=y, random_state=42)\n",
    "\n",
    "# Instantiate\n",
    "rfc = RandomForestClassifier(random_state=42,\n",
    "                            max_depth=40,\n",
    "                            min_samples_leaf=3,\n",
    "                            min_samples_split=12,\n",
    "                            n_estimators=100)\n",
    "\n",
    "# Fit\n",
    "rfc.fit(X, y)\n",
    "\n",
    "# Evaluation\n",
    "# Acc score\n",
    "print('train acc:', rfc.score(X, y).round(4))\n",
    "\n",
    "# Print classification report\n",
    "\n",
    "# predict values for test set\n",
    "y_preds = rfc.predict(X)\n",
    "\n",
    "print(metrics.classification_report(y, y_preds))"
   ]
  },
  {
   "cell_type": "markdown",
   "id": "d23e292d-dda5-4e80-b884-50d4649133ee",
   "metadata": {},
   "source": [
    "# Submission"
   ]
  },
  {
   "cell_type": "markdown",
   "id": "69b14eb5-aa94-49c3-96b8-a9f47f372d54",
   "metadata": {},
   "source": [
    "## Prepare data"
   ]
  },
  {
   "cell_type": "code",
   "execution_count": 52,
   "id": "75b11a78-f1db-4811-b10e-54f0ba44902b",
   "metadata": {},
   "outputs": [],
   "source": [
    "df_submis = pd.read_csv('./data/test_data.csv')"
   ]
  },
  {
   "cell_type": "code",
   "execution_count": 53,
   "id": "d9eab667-a72e-48ef-a825-9d7a499ad8a1",
   "metadata": {},
   "outputs": [
    {
     "name": "stdout",
     "output_type": "stream",
     "text": [
      "(16281, 13)\n"
     ]
    },
    {
     "data": {
      "text/html": [
       "<div>\n",
       "<style scoped>\n",
       "    .dataframe tbody tr th:only-of-type {\n",
       "        vertical-align: middle;\n",
       "    }\n",
       "\n",
       "    .dataframe tbody tr th {\n",
       "        vertical-align: top;\n",
       "    }\n",
       "\n",
       "    .dataframe thead th {\n",
       "        text-align: right;\n",
       "    }\n",
       "</style>\n",
       "<table border=\"1\" class=\"dataframe\">\n",
       "  <thead>\n",
       "    <tr style=\"text-align: right;\">\n",
       "      <th></th>\n",
       "      <th>age</th>\n",
       "      <th>workclass</th>\n",
       "      <th>fnlwgt</th>\n",
       "      <th>education</th>\n",
       "      <th>education-num</th>\n",
       "      <th>marital-status</th>\n",
       "      <th>occupation</th>\n",
       "      <th>relationship</th>\n",
       "      <th>sex</th>\n",
       "      <th>capital-gain</th>\n",
       "      <th>capital-loss</th>\n",
       "      <th>hours-per-week</th>\n",
       "      <th>native-country</th>\n",
       "    </tr>\n",
       "  </thead>\n",
       "  <tbody>\n",
       "    <tr>\n",
       "      <th>0</th>\n",
       "      <td>25</td>\n",
       "      <td>Private</td>\n",
       "      <td>226802</td>\n",
       "      <td>11th</td>\n",
       "      <td>7</td>\n",
       "      <td>Never-married</td>\n",
       "      <td>Machine-op-inspct</td>\n",
       "      <td>Own-child</td>\n",
       "      <td>Male</td>\n",
       "      <td>0</td>\n",
       "      <td>0</td>\n",
       "      <td>40</td>\n",
       "      <td>United-States</td>\n",
       "    </tr>\n",
       "    <tr>\n",
       "      <th>1</th>\n",
       "      <td>38</td>\n",
       "      <td>Private</td>\n",
       "      <td>89814</td>\n",
       "      <td>HS-grad</td>\n",
       "      <td>9</td>\n",
       "      <td>Married-civ-spouse</td>\n",
       "      <td>Farming-fishing</td>\n",
       "      <td>Husband</td>\n",
       "      <td>Male</td>\n",
       "      <td>0</td>\n",
       "      <td>0</td>\n",
       "      <td>50</td>\n",
       "      <td>United-States</td>\n",
       "    </tr>\n",
       "    <tr>\n",
       "      <th>2</th>\n",
       "      <td>28</td>\n",
       "      <td>Local-gov</td>\n",
       "      <td>336951</td>\n",
       "      <td>Assoc-acdm</td>\n",
       "      <td>12</td>\n",
       "      <td>Married-civ-spouse</td>\n",
       "      <td>Protective-serv</td>\n",
       "      <td>Husband</td>\n",
       "      <td>Male</td>\n",
       "      <td>0</td>\n",
       "      <td>0</td>\n",
       "      <td>40</td>\n",
       "      <td>United-States</td>\n",
       "    </tr>\n",
       "    <tr>\n",
       "      <th>3</th>\n",
       "      <td>44</td>\n",
       "      <td>Private</td>\n",
       "      <td>160323</td>\n",
       "      <td>Some-college</td>\n",
       "      <td>10</td>\n",
       "      <td>Married-civ-spouse</td>\n",
       "      <td>Machine-op-inspct</td>\n",
       "      <td>Husband</td>\n",
       "      <td>Male</td>\n",
       "      <td>7688</td>\n",
       "      <td>0</td>\n",
       "      <td>40</td>\n",
       "      <td>United-States</td>\n",
       "    </tr>\n",
       "    <tr>\n",
       "      <th>4</th>\n",
       "      <td>18</td>\n",
       "      <td>?</td>\n",
       "      <td>103497</td>\n",
       "      <td>Some-college</td>\n",
       "      <td>10</td>\n",
       "      <td>Never-married</td>\n",
       "      <td>?</td>\n",
       "      <td>Own-child</td>\n",
       "      <td>Female</td>\n",
       "      <td>0</td>\n",
       "      <td>0</td>\n",
       "      <td>30</td>\n",
       "      <td>United-States</td>\n",
       "    </tr>\n",
       "  </tbody>\n",
       "</table>\n",
       "</div>"
      ],
      "text/plain": [
       "   age   workclass  fnlwgt      education  education-num       marital-status  \\\n",
       "0   25     Private  226802           11th              7        Never-married   \n",
       "1   38     Private   89814        HS-grad              9   Married-civ-spouse   \n",
       "2   28   Local-gov  336951     Assoc-acdm             12   Married-civ-spouse   \n",
       "3   44     Private  160323   Some-college             10   Married-civ-spouse   \n",
       "4   18           ?  103497   Some-college             10        Never-married   \n",
       "\n",
       "           occupation relationship      sex  capital-gain  capital-loss  \\\n",
       "0   Machine-op-inspct    Own-child     Male             0             0   \n",
       "1     Farming-fishing      Husband     Male             0             0   \n",
       "2     Protective-serv      Husband     Male             0             0   \n",
       "3   Machine-op-inspct      Husband     Male          7688             0   \n",
       "4                   ?    Own-child   Female             0             0   \n",
       "\n",
       "   hours-per-week  native-country  \n",
       "0              40   United-States  \n",
       "1              50   United-States  \n",
       "2              40   United-States  \n",
       "3              40   United-States  \n",
       "4              30   United-States  "
      ]
     },
     "execution_count": 53,
     "metadata": {},
     "output_type": "execute_result"
    }
   ],
   "source": [
    "print(df_submis.shape)\n",
    "df_submis.head()"
   ]
  },
  {
   "cell_type": "code",
   "execution_count": 54,
   "id": "4a26984e-03a9-4497-a8ae-da4e0cab332a",
   "metadata": {},
   "outputs": [],
   "source": [
    "# Trim text data\n",
    "cols = ['workclass', 'education', 'marital-status', 'occupation', 'relationship', 'sex', 'native-country']\n",
    "for col in cols:\n",
    "    df_submis[col] = df_submis[col].str.replace(' ', '')"
   ]
  },
  {
   "cell_type": "code",
   "execution_count": 55,
   "id": "fdcc6013-a357-4a8b-870d-ccf883dc1271",
   "metadata": {},
   "outputs": [
    {
     "data": {
      "text/plain": [
       "group_education  education   \n",
       "g1               Masters          934\n",
       "                 Prof-school      258\n",
       "                 Doctorate        181\n",
       "g2               HS-grad         5283\n",
       "                 Some-college    3587\n",
       "                 Bachelors       2670\n",
       "                 Assoc-voc        679\n",
       "                 11th             637\n",
       "                 Assoc-acdm       534\n",
       "                 10th             456\n",
       "                 7th-8th          309\n",
       "                 9th              242\n",
       "                 12th             224\n",
       "                 5th-6th          176\n",
       "                 1st-4th           79\n",
       "                 Preschool         32\n",
       "Name: education, dtype: int64"
      ]
     },
     "execution_count": 55,
     "metadata": {},
     "output_type": "execute_result"
    }
   ],
   "source": [
    "# Apply function   \n",
    "df_submis['group_education'] = df_submis['education'].apply(group_education)\n",
    "\n",
    "# Validate groupby\n",
    "df_submis.groupby(['group_education'])['education'].value_counts()"
   ]
  },
  {
   "cell_type": "code",
   "execution_count": 56,
   "id": "7a4ababe-44be-4d8a-ac52-0cd6d5c3f73e",
   "metadata": {},
   "outputs": [
    {
     "data": {
      "text/plain": [
       "group_country  native-country            \n",
       "g1             Philippines                      97\n",
       "               Germany                          69\n",
       "               Canada                           61\n",
       "               India                            51\n",
       "               England                          37\n",
       "               Italy                            32\n",
       "               Japan                            30\n",
       "               Iran                             16\n",
       "               Taiwan                           14\n",
       "               Cambodia                          9\n",
       "               France                            9\n",
       "               Yugoslavia                        7\n",
       "g2             United-States                 14662\n",
       "               Mexico                          308\n",
       "               ?                               274\n",
       "               Puerto-Rico                      70\n",
       "               El-Salvador                      49\n",
       "               China                            47\n",
       "               Cuba                             43\n",
       "               South                            35\n",
       "               Dominican-Republic               33\n",
       "               Haiti                            31\n",
       "               Portugal                         30\n",
       "               Poland                           27\n",
       "               Columbia                         26\n",
       "               Jamaica                          25\n",
       "               Guatemala                        24\n",
       "               Greece                           20\n",
       "               Vietnam                          19\n",
       "               Ecuador                          17\n",
       "               Nicaragua                        15\n",
       "               Peru                             15\n",
       "               Ireland                          13\n",
       "               Thailand                         12\n",
       "               Hong                             10\n",
       "               Outlying-US(Guam-USVI-etc)        9\n",
       "               Scotland                          9\n",
       "               Trinadad&Tobago                   8\n",
       "               Honduras                          7\n",
       "               Hungary                           6\n",
       "               Laos                              5\n",
       "Name: native-country, dtype: int64"
      ]
     },
     "execution_count": 56,
     "metadata": {},
     "output_type": "execute_result"
    }
   ],
   "source": [
    "# Apply function   \n",
    "df_submis['group_country'] = df_submis['native-country'].apply(group_country)\n",
    "\n",
    "# Validate groupby\n",
    "df_submis.groupby(['group_country'])['native-country'].value_counts()"
   ]
  },
  {
   "cell_type": "code",
   "execution_count": 57,
   "id": "d9f2472d-8868-49f7-a566-42138f87d183",
   "metadata": {},
   "outputs": [],
   "source": [
    "features = ['age', 'workclass', 'fnlwgt', 'group_education', 'education-num',\n",
    "       'marital-status', 'occupation', 'relationship', 'sex', 'capital-gain',\n",
    "       'capital-loss', 'hours-per-week', 'group_country']\n",
    "X_submis = df_submis[features]\n",
    "X_submis = pd.get_dummies(X_submis, drop_first=True)"
   ]
  },
  {
   "cell_type": "markdown",
   "id": "62d15817-375b-48ff-b32d-f39beea1bae9",
   "metadata": {},
   "source": [
    "## Predict data"
   ]
  },
  {
   "cell_type": "code",
   "execution_count": 58,
   "id": "3b8f9687-94a3-4cc2-b1a2-dadd39542e70",
   "metadata": {},
   "outputs": [],
   "source": [
    "submis_preds = rfc.predict(X_submis)\n",
    "submis_df = pd.DataFrame({'wage': submis_preds})"
   ]
  },
  {
   "cell_type": "markdown",
   "id": "80f07c87-cbe1-44c3-8b8c-d9f19eb76b83",
   "metadata": {},
   "source": [
    "## Make submssion"
   ]
  },
  {
   "cell_type": "code",
   "execution_count": 59,
   "id": "d3cab548-c49a-44fc-9aeb-584473e32f73",
   "metadata": {},
   "outputs": [],
   "source": [
    "submis_df.to_csv('./tonzai_im_submission.csv', index=False)"
   ]
  },
  {
   "cell_type": "code",
   "execution_count": 60,
   "id": "e5829747-796e-484a-b575-1072d6adcc53",
   "metadata": {},
   "outputs": [
    {
     "data": {
      "text/html": [
       "<div>\n",
       "<style scoped>\n",
       "    .dataframe tbody tr th:only-of-type {\n",
       "        vertical-align: middle;\n",
       "    }\n",
       "\n",
       "    .dataframe tbody tr th {\n",
       "        vertical-align: top;\n",
       "    }\n",
       "\n",
       "    .dataframe thead th {\n",
       "        text-align: right;\n",
       "    }\n",
       "</style>\n",
       "<table border=\"1\" class=\"dataframe\">\n",
       "  <thead>\n",
       "    <tr style=\"text-align: right;\">\n",
       "      <th></th>\n",
       "      <th>wage</th>\n",
       "    </tr>\n",
       "  </thead>\n",
       "  <tbody>\n",
       "    <tr>\n",
       "      <th>0</th>\n",
       "      <td>0</td>\n",
       "    </tr>\n",
       "    <tr>\n",
       "      <th>1</th>\n",
       "      <td>0</td>\n",
       "    </tr>\n",
       "    <tr>\n",
       "      <th>2</th>\n",
       "      <td>0</td>\n",
       "    </tr>\n",
       "    <tr>\n",
       "      <th>3</th>\n",
       "      <td>1</td>\n",
       "    </tr>\n",
       "    <tr>\n",
       "      <th>4</th>\n",
       "      <td>0</td>\n",
       "    </tr>\n",
       "    <tr>\n",
       "      <th>...</th>\n",
       "      <td>...</td>\n",
       "    </tr>\n",
       "    <tr>\n",
       "      <th>16276</th>\n",
       "      <td>0</td>\n",
       "    </tr>\n",
       "    <tr>\n",
       "      <th>16277</th>\n",
       "      <td>0</td>\n",
       "    </tr>\n",
       "    <tr>\n",
       "      <th>16278</th>\n",
       "      <td>1</td>\n",
       "    </tr>\n",
       "    <tr>\n",
       "      <th>16279</th>\n",
       "      <td>0</td>\n",
       "    </tr>\n",
       "    <tr>\n",
       "      <th>16280</th>\n",
       "      <td>1</td>\n",
       "    </tr>\n",
       "  </tbody>\n",
       "</table>\n",
       "<p>16281 rows × 1 columns</p>\n",
       "</div>"
      ],
      "text/plain": [
       "       wage\n",
       "0         0\n",
       "1         0\n",
       "2         0\n",
       "3         1\n",
       "4         0\n",
       "...     ...\n",
       "16276     0\n",
       "16277     0\n",
       "16278     1\n",
       "16279     0\n",
       "16280     1\n",
       "\n",
       "[16281 rows x 1 columns]"
      ]
     },
     "execution_count": 60,
     "metadata": {},
     "output_type": "execute_result"
    }
   ],
   "source": [
    "pd.read_csv('./tonzai_im_submission.csv')"
   ]
  }
 ],
 "metadata": {
  "kernelspec": {
   "display_name": "Python 3 (ipykernel)",
   "language": "python",
   "name": "python3"
  },
  "language_info": {
   "codemirror_mode": {
    "name": "ipython",
    "version": 3
   },
   "file_extension": ".py",
   "mimetype": "text/x-python",
   "name": "python",
   "nbconvert_exporter": "python",
   "pygments_lexer": "ipython3",
   "version": "3.9.12"
  }
 },
 "nbformat": 4,
 "nbformat_minor": 5
}
